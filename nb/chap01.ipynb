{
  "cells": [
    {
      "cell_type": "markdown",
      "id": "025b76df",
      "metadata": {
        "id": "025b76df"
      },
      "source": [
        "The third edition of *Think Stats* is not for sale yet, but if you would like to support this project, you can [buy me a coffee](https://buymeacoffee.com/allendowney)."
      ]
    },
    {
      "cell_type": "markdown",
      "id": "85c30bdb",
      "metadata": {
        "id": "85c30bdb"
      },
      "source": [
        "# Exploratory Data Analysis\n",
        "\n",
        "The thesis of this book is we can use data to answer questions, resolve debates, and make better decisions.\n",
        "\n",
        "This chapter introduces the steps we'll use to do that: loading and validating data, exploring, and choosing statistics that measure what you are interested in.\n",
        "As an example, we'll use data from the National Survey of Family Growth (NSFG) to answer a question I heard when my wife and I were expecting our first child: do first babies tend to arrive late?"
      ]
    },
    {
      "cell_type": "markdown",
      "id": "3893fe82",
      "metadata": {
        "tags": [],
        "id": "3893fe82"
      },
      "source": [
        "[Click here to run this notebook on Colab](https://colab.research.google.com/github/AllenDowney/ThinkStats/blob/v3/nb/chap01.ipynb)."
      ]
    },
    {
      "cell_type": "code",
      "execution_count": 2,
      "id": "3bb1c675",
      "metadata": {
        "tags": [],
        "colab": {
          "base_uri": "https://localhost:8080/",
          "height": 453
        },
        "id": "3bb1c675",
        "outputId": "75bcc5e7-55c8-42e0-d76c-2f08dea25e00"
      },
      "outputs": [
        {
          "output_type": "error",
          "ename": "ModuleNotFoundError",
          "evalue": "No module named 'nb_black'",
          "traceback": [
            "\u001b[0;31m---------------------------------------------------------------------------\u001b[0m",
            "\u001b[0;31mModuleNotFoundError\u001b[0m                       Traceback (most recent call last)",
            "\u001b[0;32m<ipython-input-2-76f3f37df84e>\u001b[0m in \u001b[0;36m<cell line: 1>\u001b[0;34m()\u001b[0m\n\u001b[0;32m----> 1\u001b[0;31m \u001b[0mget_ipython\u001b[0m\u001b[0;34m(\u001b[0m\u001b[0;34m)\u001b[0m\u001b[0;34m.\u001b[0m\u001b[0mrun_line_magic\u001b[0m\u001b[0;34m(\u001b[0m\u001b[0;34m'load_ext'\u001b[0m\u001b[0;34m,\u001b[0m \u001b[0;34m'nb_black'\u001b[0m\u001b[0;34m)\u001b[0m\u001b[0;34m\u001b[0m\u001b[0;34m\u001b[0m\u001b[0m\n\u001b[0m\u001b[1;32m      2\u001b[0m \u001b[0mget_ipython\u001b[0m\u001b[0;34m(\u001b[0m\u001b[0;34m)\u001b[0m\u001b[0;34m.\u001b[0m\u001b[0mrun_line_magic\u001b[0m\u001b[0;34m(\u001b[0m\u001b[0;34m'load_ext'\u001b[0m\u001b[0;34m,\u001b[0m \u001b[0;34m'autoreload'\u001b[0m\u001b[0;34m)\u001b[0m\u001b[0;34m\u001b[0m\u001b[0;34m\u001b[0m\u001b[0m\n\u001b[1;32m      3\u001b[0m \u001b[0mget_ipython\u001b[0m\u001b[0;34m(\u001b[0m\u001b[0;34m)\u001b[0m\u001b[0;34m.\u001b[0m\u001b[0mrun_line_magic\u001b[0m\u001b[0;34m(\u001b[0m\u001b[0;34m'autoreload'\u001b[0m\u001b[0;34m,\u001b[0m \u001b[0;34m'2'\u001b[0m\u001b[0;34m)\u001b[0m\u001b[0;34m\u001b[0m\u001b[0;34m\u001b[0m\u001b[0m\n",
            "\u001b[0;32m/usr/local/lib/python3.10/dist-packages/IPython/core/interactiveshell.py\u001b[0m in \u001b[0;36mrun_line_magic\u001b[0;34m(self, magic_name, line, _stack_depth)\u001b[0m\n\u001b[1;32m   2416\u001b[0m                 \u001b[0mkwargs\u001b[0m\u001b[0;34m[\u001b[0m\u001b[0;34m'local_ns'\u001b[0m\u001b[0;34m]\u001b[0m \u001b[0;34m=\u001b[0m \u001b[0mself\u001b[0m\u001b[0;34m.\u001b[0m\u001b[0mget_local_scope\u001b[0m\u001b[0;34m(\u001b[0m\u001b[0mstack_depth\u001b[0m\u001b[0;34m)\u001b[0m\u001b[0;34m\u001b[0m\u001b[0;34m\u001b[0m\u001b[0m\n\u001b[1;32m   2417\u001b[0m             \u001b[0;32mwith\u001b[0m \u001b[0mself\u001b[0m\u001b[0;34m.\u001b[0m\u001b[0mbuiltin_trap\u001b[0m\u001b[0;34m:\u001b[0m\u001b[0;34m\u001b[0m\u001b[0;34m\u001b[0m\u001b[0m\n\u001b[0;32m-> 2418\u001b[0;31m                 \u001b[0mresult\u001b[0m \u001b[0;34m=\u001b[0m \u001b[0mfn\u001b[0m\u001b[0;34m(\u001b[0m\u001b[0;34m*\u001b[0m\u001b[0margs\u001b[0m\u001b[0;34m,\u001b[0m \u001b[0;34m**\u001b[0m\u001b[0mkwargs\u001b[0m\u001b[0;34m)\u001b[0m\u001b[0;34m\u001b[0m\u001b[0;34m\u001b[0m\u001b[0m\n\u001b[0m\u001b[1;32m   2419\u001b[0m             \u001b[0;32mreturn\u001b[0m \u001b[0mresult\u001b[0m\u001b[0;34m\u001b[0m\u001b[0;34m\u001b[0m\u001b[0m\n\u001b[1;32m   2420\u001b[0m \u001b[0;34m\u001b[0m\u001b[0m\n",
            "\u001b[0;32m<decorator-gen-57>\u001b[0m in \u001b[0;36mload_ext\u001b[0;34m(self, module_str)\u001b[0m\n",
            "\u001b[0;32m/usr/local/lib/python3.10/dist-packages/IPython/core/magic.py\u001b[0m in \u001b[0;36m<lambda>\u001b[0;34m(f, *a, **k)\u001b[0m\n\u001b[1;32m    185\u001b[0m     \u001b[0;31m# but it's overkill for just that one bit of state.\u001b[0m\u001b[0;34m\u001b[0m\u001b[0;34m\u001b[0m\u001b[0m\n\u001b[1;32m    186\u001b[0m     \u001b[0;32mdef\u001b[0m \u001b[0mmagic_deco\u001b[0m\u001b[0;34m(\u001b[0m\u001b[0marg\u001b[0m\u001b[0;34m)\u001b[0m\u001b[0;34m:\u001b[0m\u001b[0;34m\u001b[0m\u001b[0;34m\u001b[0m\u001b[0m\n\u001b[0;32m--> 187\u001b[0;31m         \u001b[0mcall\u001b[0m \u001b[0;34m=\u001b[0m \u001b[0;32mlambda\u001b[0m \u001b[0mf\u001b[0m\u001b[0;34m,\u001b[0m \u001b[0;34m*\u001b[0m\u001b[0ma\u001b[0m\u001b[0;34m,\u001b[0m \u001b[0;34m**\u001b[0m\u001b[0mk\u001b[0m\u001b[0;34m:\u001b[0m \u001b[0mf\u001b[0m\u001b[0;34m(\u001b[0m\u001b[0;34m*\u001b[0m\u001b[0ma\u001b[0m\u001b[0;34m,\u001b[0m \u001b[0;34m**\u001b[0m\u001b[0mk\u001b[0m\u001b[0;34m)\u001b[0m\u001b[0;34m\u001b[0m\u001b[0;34m\u001b[0m\u001b[0m\n\u001b[0m\u001b[1;32m    188\u001b[0m \u001b[0;34m\u001b[0m\u001b[0m\n\u001b[1;32m    189\u001b[0m         \u001b[0;32mif\u001b[0m \u001b[0mcallable\u001b[0m\u001b[0;34m(\u001b[0m\u001b[0marg\u001b[0m\u001b[0;34m)\u001b[0m\u001b[0;34m:\u001b[0m\u001b[0;34m\u001b[0m\u001b[0;34m\u001b[0m\u001b[0m\n",
            "\u001b[0;32m/usr/local/lib/python3.10/dist-packages/IPython/core/magics/extension.py\u001b[0m in \u001b[0;36mload_ext\u001b[0;34m(self, module_str)\u001b[0m\n\u001b[1;32m     31\u001b[0m         \u001b[0;32mif\u001b[0m \u001b[0;32mnot\u001b[0m \u001b[0mmodule_str\u001b[0m\u001b[0;34m:\u001b[0m\u001b[0;34m\u001b[0m\u001b[0;34m\u001b[0m\u001b[0m\n\u001b[1;32m     32\u001b[0m             \u001b[0;32mraise\u001b[0m \u001b[0mUsageError\u001b[0m\u001b[0;34m(\u001b[0m\u001b[0;34m'Missing module name.'\u001b[0m\u001b[0;34m)\u001b[0m\u001b[0;34m\u001b[0m\u001b[0;34m\u001b[0m\u001b[0m\n\u001b[0;32m---> 33\u001b[0;31m         \u001b[0mres\u001b[0m \u001b[0;34m=\u001b[0m \u001b[0mself\u001b[0m\u001b[0;34m.\u001b[0m\u001b[0mshell\u001b[0m\u001b[0;34m.\u001b[0m\u001b[0mextension_manager\u001b[0m\u001b[0;34m.\u001b[0m\u001b[0mload_extension\u001b[0m\u001b[0;34m(\u001b[0m\u001b[0mmodule_str\u001b[0m\u001b[0;34m)\u001b[0m\u001b[0;34m\u001b[0m\u001b[0;34m\u001b[0m\u001b[0m\n\u001b[0m\u001b[1;32m     34\u001b[0m \u001b[0;34m\u001b[0m\u001b[0m\n\u001b[1;32m     35\u001b[0m         \u001b[0;32mif\u001b[0m \u001b[0mres\u001b[0m \u001b[0;34m==\u001b[0m \u001b[0;34m'already loaded'\u001b[0m\u001b[0;34m:\u001b[0m\u001b[0;34m\u001b[0m\u001b[0;34m\u001b[0m\u001b[0m\n",
            "\u001b[0;32m/usr/local/lib/python3.10/dist-packages/IPython/core/extensions.py\u001b[0m in \u001b[0;36mload_extension\u001b[0;34m(self, module_str)\u001b[0m\n\u001b[1;32m     78\u001b[0m             \u001b[0;32mif\u001b[0m \u001b[0mmodule_str\u001b[0m \u001b[0;32mnot\u001b[0m \u001b[0;32min\u001b[0m \u001b[0msys\u001b[0m\u001b[0;34m.\u001b[0m\u001b[0mmodules\u001b[0m\u001b[0;34m:\u001b[0m\u001b[0;34m\u001b[0m\u001b[0;34m\u001b[0m\u001b[0m\n\u001b[1;32m     79\u001b[0m                 \u001b[0;32mwith\u001b[0m \u001b[0mprepended_to_syspath\u001b[0m\u001b[0;34m(\u001b[0m\u001b[0mself\u001b[0m\u001b[0;34m.\u001b[0m\u001b[0mipython_extension_dir\u001b[0m\u001b[0;34m)\u001b[0m\u001b[0;34m:\u001b[0m\u001b[0;34m\u001b[0m\u001b[0;34m\u001b[0m\u001b[0m\n\u001b[0;32m---> 80\u001b[0;31m                     \u001b[0mmod\u001b[0m \u001b[0;34m=\u001b[0m \u001b[0mimport_module\u001b[0m\u001b[0;34m(\u001b[0m\u001b[0mmodule_str\u001b[0m\u001b[0;34m)\u001b[0m\u001b[0;34m\u001b[0m\u001b[0;34m\u001b[0m\u001b[0m\n\u001b[0m\u001b[1;32m     81\u001b[0m                     \u001b[0;32mif\u001b[0m \u001b[0mmod\u001b[0m\u001b[0;34m.\u001b[0m\u001b[0m__file__\u001b[0m\u001b[0;34m.\u001b[0m\u001b[0mstartswith\u001b[0m\u001b[0;34m(\u001b[0m\u001b[0mself\u001b[0m\u001b[0;34m.\u001b[0m\u001b[0mipython_extension_dir\u001b[0m\u001b[0;34m)\u001b[0m\u001b[0;34m:\u001b[0m\u001b[0;34m\u001b[0m\u001b[0;34m\u001b[0m\u001b[0m\n\u001b[1;32m     82\u001b[0m                         print((\"Loading extensions from {dir} is deprecated. \"\n",
            "\u001b[0;32m/usr/lib/python3.10/importlib/__init__.py\u001b[0m in \u001b[0;36mimport_module\u001b[0;34m(name, package)\u001b[0m\n\u001b[1;32m    124\u001b[0m                 \u001b[0;32mbreak\u001b[0m\u001b[0;34m\u001b[0m\u001b[0;34m\u001b[0m\u001b[0m\n\u001b[1;32m    125\u001b[0m             \u001b[0mlevel\u001b[0m \u001b[0;34m+=\u001b[0m \u001b[0;36m1\u001b[0m\u001b[0;34m\u001b[0m\u001b[0;34m\u001b[0m\u001b[0m\n\u001b[0;32m--> 126\u001b[0;31m     \u001b[0;32mreturn\u001b[0m \u001b[0m_bootstrap\u001b[0m\u001b[0;34m.\u001b[0m\u001b[0m_gcd_import\u001b[0m\u001b[0;34m(\u001b[0m\u001b[0mname\u001b[0m\u001b[0;34m[\u001b[0m\u001b[0mlevel\u001b[0m\u001b[0;34m:\u001b[0m\u001b[0;34m]\u001b[0m\u001b[0;34m,\u001b[0m \u001b[0mpackage\u001b[0m\u001b[0;34m,\u001b[0m \u001b[0mlevel\u001b[0m\u001b[0;34m)\u001b[0m\u001b[0;34m\u001b[0m\u001b[0;34m\u001b[0m\u001b[0m\n\u001b[0m\u001b[1;32m    127\u001b[0m \u001b[0;34m\u001b[0m\u001b[0m\n\u001b[1;32m    128\u001b[0m \u001b[0;34m\u001b[0m\u001b[0m\n",
            "\u001b[0;32m/usr/lib/python3.10/importlib/_bootstrap.py\u001b[0m in \u001b[0;36m_gcd_import\u001b[0;34m(name, package, level)\u001b[0m\n",
            "\u001b[0;32m/usr/lib/python3.10/importlib/_bootstrap.py\u001b[0m in \u001b[0;36m_find_and_load\u001b[0;34m(name, import_)\u001b[0m\n",
            "\u001b[0;32m/usr/lib/python3.10/importlib/_bootstrap.py\u001b[0m in \u001b[0;36m_find_and_load_unlocked\u001b[0;34m(name, import_)\u001b[0m\n",
            "\u001b[0;31mModuleNotFoundError\u001b[0m: No module named 'nb_black'",
            "",
            "\u001b[0;31m---------------------------------------------------------------------------\u001b[0;32m\nNOTE: If your import is failing due to a missing package, you can\nmanually install dependencies using either !pip or !apt.\n\nTo view examples of installing some common dependencies, click the\n\"Open Examples\" button below.\n\u001b[0;31m---------------------------------------------------------------------------\u001b[0m\n"
          ],
          "errorDetails": {
            "actions": [
              {
                "action": "open_url",
                "actionText": "Open Examples",
                "url": "/notebooks/snippets/importing_libraries.ipynb"
              }
            ]
          }
        }
      ],
      "source": [
        "%load_ext nb_black\n",
        "%load_ext autoreload\n",
        "%autoreload 2"
      ]
    },
    {
      "cell_type": "code",
      "execution_count": 3,
      "id": "02d400cf",
      "metadata": {
        "tags": [],
        "colab": {
          "base_uri": "https://localhost:8080/"
        },
        "id": "02d400cf",
        "outputId": "6c3010ae-1039-46b0-a7be-2394d92a5922"
      },
      "outputs": [
        {
          "output_type": "stream",
          "name": "stdout",
          "text": [
            "Downloaded thinkstats.py\n"
          ]
        }
      ],
      "source": [
        "from os.path import basename, exists\n",
        "\n",
        "\n",
        "def download(url):\n",
        "    filename = basename(url)\n",
        "    if not exists(filename):\n",
        "        from urllib.request import urlretrieve\n",
        "\n",
        "        local, _ = urlretrieve(url, filename)\n",
        "        print(\"Downloaded \" + local)\n",
        "\n",
        "\n",
        "download(\"https://github.com/AllenDowney/ThinkStats/raw/v3/nb/thinkstats.py\")"
      ]
    },
    {
      "cell_type": "code",
      "execution_count": 4,
      "id": "553c681e",
      "metadata": {
        "tags": [],
        "colab": {
          "base_uri": "https://localhost:8080/"
        },
        "id": "553c681e",
        "outputId": "5ea156f3-14d6-45de-a074-84e8cde590fe"
      },
      "outputs": [
        {
          "output_type": "stream",
          "name": "stdout",
          "text": [
            "Collecting empiricaldist\n",
            "  Downloading empiricaldist-0.7.5.tar.gz (12 kB)\n",
            "  Installing build dependencies ... \u001b[?25l\u001b[?25hdone\n",
            "  Getting requirements to build wheel ... \u001b[?25l\u001b[?25hdone\n",
            "  Preparing metadata (pyproject.toml) ... \u001b[?25l\u001b[?25hdone\n",
            "Building wheels for collected packages: empiricaldist\n",
            "  Building wheel for empiricaldist (pyproject.toml) ... \u001b[?25l\u001b[?25hdone\n",
            "  Created wheel for empiricaldist: filename=empiricaldist-0.7.5-py3-none-any.whl size=12468 sha256=873d3d121ddd281cbc6d1b030a8f21a169c0d6add8f0e327a30a0b2a25c13df8\n",
            "  Stored in directory: /root/.cache/pip/wheels/0d/d0/ae/1ad4c7593703e55b2321b23b49d3b0d55261b59d7036d7045b\n",
            "Successfully built empiricaldist\n",
            "Installing collected packages: empiricaldist\n",
            "Successfully installed empiricaldist-0.7.5\n"
          ]
        }
      ],
      "source": [
        "try:\n",
        "    import empiricaldist\n",
        "except ImportError:\n",
        "    !pip install empiricaldist"
      ]
    },
    {
      "cell_type": "code",
      "execution_count": 5,
      "id": "1a3119be",
      "metadata": {
        "tags": [],
        "id": "1a3119be"
      },
      "outputs": [],
      "source": [
        "import numpy as np\n",
        "import pandas as pd\n",
        "import matplotlib.pyplot as plt\n",
        "\n",
        "from IPython.display import HTML\n",
        "from thinkstats import decorate"
      ]
    },
    {
      "cell_type": "markdown",
      "id": "9ebc865a",
      "metadata": {
        "id": "9ebc865a"
      },
      "source": [
        "## Evidence\n",
        "\n",
        "You might have heard that first babies are more likely to be late.\n",
        "If you search the web with this question, you will find plenty of discussion.\n",
        "Some people claim it's true, others say it's a myth, and some people say it's the other way around: first babies come early.\n",
        "\n",
        "In many of these discussions, people provide data to support their claims.\n",
        "I found many examples like these:\n",
        "\n",
        "> \"My two friends that have given birth recently to their first babies, BOTH went almost 2 weeks overdue before going into labour or being induced.\"\n",
        "\n",
        "> \"My first one came 2 weeks late and now I think the second one is going to come out two weeks early!!\"\n",
        "\n",
        "> \"I don't think that can be true because my sister was my mother's first and she was early, as with many of my cousins.\""
      ]
    },
    {
      "cell_type": "markdown",
      "id": "69f30de7",
      "metadata": {
        "id": "69f30de7"
      },
      "source": [
        "Reports like these are called **anecdotal evidence** because they are based on data that is unpublished and usually personal.\n",
        "In casual conversation, there is nothing wrong with anecdotes, so I don't mean to pick on the people I quoted.\n",
        "\n",
        "But we might want evidence that is more persuasive and an answer that is more reliable.\n",
        "By those standards, anecdotal evidence usually fails, because:\n",
        "\n",
        "-   Small number of observations: If pregnancy length is longer for first babies, the difference is probably small compared to natural variation. In that case, we might have to compare a large number of pregnancies to know whether there is a difference.\n",
        "\n",
        "-   Selection bias: People who join a discussion of this question might be interested because their first babies were late. In that case the process of selecting data would bias the results.\n",
        "\n",
        "-   Confirmation bias: People who believe the claim might be more likely to contribute examples that confirm it. People who doubt the claim are more likely to cite counterexamples.\n",
        "\n",
        "-   Inaccuracy: Anecdotes are often personal stories, and might be misremembered, misrepresented, repeated inaccurately, etc."
      ]
    },
    {
      "cell_type": "markdown",
      "id": "136480d4",
      "metadata": {
        "id": "136480d4"
      },
      "source": [
        "To address the limitations of anecdotes, we will use the tools of statistics, which include:\n",
        "\n",
        "-   Data collection: We will use data from a large national survey that was designed explicitly with the goal of generating statistically valid inferences about the U.S. population.\n",
        "\n",
        "-   Descriptive statistics: We will generate statistics that summarize the data concisely, and evaluate different ways to visualize data.\n",
        "\n",
        "-   Exploratory data analysis: We will look for patterns, differences, and other features that address the questions we are interested in. At the same time we will check for inconsistencies and identify limitations.\n",
        "\n",
        "-   Estimation: We will use data from a sample to estimate characteristics of the general population.\n",
        "\n",
        "-   Hypothesis testing: Where we see apparent effects, like a difference between two groups, we will evaluate whether the effect might have happened by chance.\n",
        "\n",
        "By performing these steps with care to avoid pitfalls, we can reach conclusions that are more justified and more likely to be correct."
      ]
    },
    {
      "cell_type": "markdown",
      "id": "881d8023",
      "metadata": {
        "id": "881d8023"
      },
      "source": [
        "## The National Survey of Family Growth\n",
        "\n",
        "Since 1973 the U.S. Centers for Disease Control and Prevention (CDC) have conducted the National Survey of Family Growth (NSFG), which is intended to gather \"information on family life, marriage and divorce, pregnancy, infertility, use of contraception, and men's and women's health. The survey results are used...to plan health services and health education programs, and to do statistical studies of families, fertility, and health.\""
      ]
    },
    {
      "cell_type": "markdown",
      "id": "f6e9bf62",
      "metadata": {
        "tags": [],
        "id": "f6e9bf62"
      },
      "source": [
        "You can read more about the NSFG at <http://cdc.gov/nchs/nsfg.htm>."
      ]
    },
    {
      "cell_type": "markdown",
      "id": "41d329e0",
      "metadata": {
        "id": "41d329e0"
      },
      "source": [
        "We will use data collected by this survey to investigate whether first babies tend to come late, and other questions.\n",
        "In order to use this data effectively, we have to understand the design of the study.\n",
        "\n",
        "The NSFG is a **cross-sectional** study, which means that it captures a snapshot of a group at a point in time.\n",
        "The most common alternative is a **longitudinal** study, which observes a group repeatedly over time.\n",
        "\n",
        "The NSFG has been conducted several times now; each deployment is called a **cycle**.\n",
        "We will use data from Cycle 6, which was conducted from January 2002 to March 2003."
      ]
    },
    {
      "cell_type": "markdown",
      "id": "c1c2f467",
      "metadata": {
        "id": "c1c2f467"
      },
      "source": [
        "The goal of the survey is to draw conclusions about a **population**; the target population of the NSFG is people in the United States aged 15-44.\n",
        "Ideally surveys would collect data from every member of the population, but that's seldom possible.\n",
        "Instead we collect data from a subset of the population called a **sample**.\n",
        "The people who participate in a survey are called **respondents**.\n",
        "\n",
        "In general, cross-sectional studies are meant to be **representative**, which means that every member of the target population has an equal chance of participating.\n",
        "That ideal is hard to achieve in practice, but people who conduct surveys come as close as they can."
      ]
    },
    {
      "cell_type": "markdown",
      "id": "11a17e85",
      "metadata": {
        "id": "11a17e85"
      },
      "source": [
        "The NSFG is not representative; instead it is deliberately **oversampled**.\n",
        "The designers of the study recruited three groups -- Hispanics, African-Americans and teenagers -- at rates higher than their representation in the U.S. population, in order to make sure that the number of respondents in each of these groups is large enough to draw valid statistical inferences.\n",
        "\n",
        "The drawback of oversampling is that it is not as easy to draw conclusions about the general population based on statistics from the survey.\n",
        "We will come back to this point later.\n",
        "\n",
        "When working with this kind of data, it is important to be familiar with the **codebook**, which documents the design of the study, the survey questions, and the encoding of the responses."
      ]
    },
    {
      "cell_type": "markdown",
      "id": "5908f497",
      "metadata": {
        "tags": [],
        "id": "5908f497"
      },
      "source": [
        "The codebook and user's guide for the NSFG data are available from <http://www.cdc.gov/nchs/nsfg/nsfg_cycle6.htm>"
      ]
    },
    {
      "cell_type": "markdown",
      "id": "da1298b1",
      "metadata": {
        "id": "da1298b1"
      },
      "source": [
        "## Reading the Data\n",
        "\n",
        "Before downloading NSFG data, you have to agree to the terms of use:\n",
        "\n",
        "> Any intentional identification or disclosure of an individual or establishment violates the assurances of confidentiality given to the providers of the information. Therefore, users will:\n",
        ">\n",
        "> * Use the data in this dataset for statistical reporting and analysis only.\n",
        ">\n",
        "> * Make no attempt to learn the identity of any person or establishment included in these data.\n",
        ">\n",
        "> * Not link this dataset with individually identifiable data from other NCHS or non-NCHS datasets.\n",
        ">\n",
        "> * Not engage in any efforts to assess disclosure methodologies applied to protect individuals and establishments or any research on methods of re-identification of individuals and establishments.\n",
        "\n",
        "If you agree to comply with these terms, instructions for downloading the data are in the notebook for this chapter."
      ]
    },
    {
      "cell_type": "markdown",
      "id": "254dde94",
      "metadata": {
        "tags": [],
        "id": "254dde94"
      },
      "source": [
        "The data files are available directly from the NSFG web site at <https://www.cdc.gov/nchs/data_access/ftp_dua.htm?url_redirect=ftp://ftp.cdc.gov/pub/Health_Statistics/NCHS/Datasets/NSFG>, but we will download them from the repository for this book, which provides a compressed version of the data file.\n",
        "\n",
        "The following cells download the data files and install `statadict`, which we need to read the data."
      ]
    },
    {
      "cell_type": "code",
      "execution_count": 6,
      "id": "6ee58aea",
      "metadata": {
        "tags": [],
        "colab": {
          "base_uri": "https://localhost:8080/"
        },
        "id": "6ee58aea",
        "outputId": "10b5eba3-7c02-4af7-858a-0bf6ab10d0e5"
      },
      "outputs": [
        {
          "output_type": "stream",
          "name": "stdout",
          "text": [
            "Downloaded 2002FemPreg.dct\n",
            "Downloaded 2002FemPreg.dat.gz\n"
          ]
        }
      ],
      "source": [
        "download(\"https://github.com/AllenDowney/ThinkStats/raw/v3/data/2002FemPreg.dct\")\n",
        "download(\"https://github.com/AllenDowney/ThinkStats/raw/v3/data/2002FemPreg.dat.gz\")"
      ]
    },
    {
      "cell_type": "code",
      "execution_count": 7,
      "id": "35e4ffdf",
      "metadata": {
        "tags": [],
        "colab": {
          "base_uri": "https://localhost:8080/"
        },
        "id": "35e4ffdf",
        "outputId": "2a25569e-664c-4c5e-e26c-c0f5f8ae98bb"
      },
      "outputs": [
        {
          "output_type": "stream",
          "name": "stdout",
          "text": [
            "Collecting statadict\n",
            "  Downloading statadict-1.1.0-py3-none-any.whl.metadata (1.7 kB)\n",
            "Downloading statadict-1.1.0-py3-none-any.whl (9.4 kB)\n",
            "Installing collected packages: statadict\n",
            "Successfully installed statadict-1.1.0\n"
          ]
        }
      ],
      "source": [
        "try:\n",
        "    import statadict\n",
        "except ImportError:\n",
        "    !pip install statadict"
      ]
    },
    {
      "cell_type": "markdown",
      "id": "4cafe831",
      "metadata": {
        "id": "4cafe831"
      },
      "source": [
        "The data is stored in two files, a \"dictionary\" that describes the format of the data, and a data file."
      ]
    },
    {
      "cell_type": "code",
      "execution_count": 8,
      "id": "832bd754",
      "metadata": {
        "id": "832bd754"
      },
      "outputs": [],
      "source": [
        "dct_file = \"2002FemPreg.dct\"\n",
        "dat_file = \"2002FemPreg.dat.gz\""
      ]
    },
    {
      "cell_type": "markdown",
      "id": "714a5a3f",
      "metadata": {
        "id": "714a5a3f"
      },
      "source": [
        "The notebook for this chapter defines a function that reads these files.\n",
        "It is called `read_stata` because this data format is compatible with a statistical software package called Stata."
      ]
    },
    {
      "cell_type": "markdown",
      "id": "0bd8b49f",
      "metadata": {
        "tags": [],
        "id": "0bd8b49f"
      },
      "source": [
        "The following function takes these file names as arguments, reads the dictionary, and uses the results to read the data file."
      ]
    },
    {
      "cell_type": "code",
      "execution_count": 9,
      "id": "3630009d",
      "metadata": {
        "tags": [],
        "id": "3630009d"
      },
      "outputs": [],
      "source": [
        "from statadict import parse_stata_dict\n",
        "\n",
        "\n",
        "def read_stata(dct_file, dat_file):\n",
        "    stata_dict = parse_stata_dict(dct_file)\n",
        "    resp = pd.read_fwf(\n",
        "        dat_file,\n",
        "        names=stata_dict.names,\n",
        "        colspecs=stata_dict.colspecs,\n",
        "        compression=\"gzip\",\n",
        "    )\n",
        "    return resp"
      ]
    },
    {
      "cell_type": "markdown",
      "id": "f3d9ee03",
      "metadata": {
        "id": "f3d9ee03"
      },
      "source": [
        "Here's how we use it."
      ]
    },
    {
      "cell_type": "code",
      "execution_count": 10,
      "id": "8444ee78",
      "metadata": {
        "id": "8444ee78"
      },
      "outputs": [],
      "source": [
        "preg = read_stata(dct_file, dat_file)"
      ]
    },
    {
      "cell_type": "markdown",
      "id": "8f164c4b",
      "metadata": {
        "id": "8f164c4b"
      },
      "source": [
        "The result is a `DataFrame`, which is a Pandas data structure that represents tabular data in rows and columns.\n",
        "This `DataFrame` contains a row for each record -- in this case one row per pregnancy -- and a column for each variable.\n",
        "In addition to the data, a `DataFrame` also contains the variable names and their types, and it provides methods for accessing and modifying the data.\n",
        "\n",
        "The `DataFrame` has an attribute called `shape` that contains the number of rows and columns."
      ]
    },
    {
      "cell_type": "code",
      "execution_count": 11,
      "id": "87e0bfbc",
      "metadata": {
        "colab": {
          "base_uri": "https://localhost:8080/"
        },
        "id": "87e0bfbc",
        "outputId": "b20ab920-1add-4c7f-b1a3-bc6e82ac366b"
      },
      "outputs": [
        {
          "output_type": "execute_result",
          "data": {
            "text/plain": [
              "(13593, 243)"
            ]
          },
          "metadata": {},
          "execution_count": 11
        }
      ],
      "source": [
        "preg.shape"
      ]
    },
    {
      "cell_type": "markdown",
      "id": "7b6a1a58",
      "metadata": {
        "id": "7b6a1a58"
      },
      "source": [
        "And it has a method called `head` that displays the first few rows."
      ]
    },
    {
      "cell_type": "code",
      "execution_count": 12,
      "id": "9c1cb8f2",
      "metadata": {
        "colab": {
          "base_uri": "https://localhost:8080/",
          "height": 256
        },
        "id": "9c1cb8f2",
        "outputId": "0c2ab66d-445b-4397-80bc-1a652193545b"
      },
      "outputs": [
        {
          "output_type": "execute_result",
          "data": {
            "text/plain": [
              "   caseid  pregordr  howpreg_n  howpreg_p  moscurrp  nowprgdk  pregend1  \\\n",
              "0       1         1        NaN        NaN       NaN       NaN       6.0   \n",
              "1       1         2        NaN        NaN       NaN       NaN       6.0   \n",
              "2       2         1        NaN        NaN       NaN       NaN       5.0   \n",
              "3       2         2        NaN        NaN       NaN       NaN       6.0   \n",
              "4       2         3        NaN        NaN       NaN       NaN       6.0   \n",
              "\n",
              "   pregend2  nbrnaliv  multbrth  ...  poverty_i  laborfor_i  religion_i  \\\n",
              "0       NaN       1.0       NaN  ...          0           0           0   \n",
              "1       NaN       1.0       NaN  ...          0           0           0   \n",
              "2       NaN       3.0       5.0  ...          0           0           0   \n",
              "3       NaN       1.0       NaN  ...          0           0           0   \n",
              "4       NaN       1.0       NaN  ...          0           0           0   \n",
              "\n",
              "   metro_i      basewgt  adj_mod_basewgt      finalwgt  secu_p  sest  cmintvw  \n",
              "0        0  3410.389399      3869.349602   6448.271112       2     9     1231  \n",
              "1        0  3410.389399      3869.349602   6448.271112       2     9     1231  \n",
              "2        0  7226.301740      8567.549110  12999.542264       2    12     1231  \n",
              "3        0  7226.301740      8567.549110  12999.542264       2    12     1231  \n",
              "4        0  7226.301740      8567.549110  12999.542264       2    12     1231  \n",
              "\n",
              "[5 rows x 243 columns]"
            ],
            "text/html": [
              "\n",
              "  <div id=\"df-fc9ba33e-ea89-4cb1-9d9c-a9be7c8c0d68\" class=\"colab-df-container\">\n",
              "    <div>\n",
              "<style scoped>\n",
              "    .dataframe tbody tr th:only-of-type {\n",
              "        vertical-align: middle;\n",
              "    }\n",
              "\n",
              "    .dataframe tbody tr th {\n",
              "        vertical-align: top;\n",
              "    }\n",
              "\n",
              "    .dataframe thead th {\n",
              "        text-align: right;\n",
              "    }\n",
              "</style>\n",
              "<table border=\"1\" class=\"dataframe\">\n",
              "  <thead>\n",
              "    <tr style=\"text-align: right;\">\n",
              "      <th></th>\n",
              "      <th>caseid</th>\n",
              "      <th>pregordr</th>\n",
              "      <th>howpreg_n</th>\n",
              "      <th>howpreg_p</th>\n",
              "      <th>moscurrp</th>\n",
              "      <th>nowprgdk</th>\n",
              "      <th>pregend1</th>\n",
              "      <th>pregend2</th>\n",
              "      <th>nbrnaliv</th>\n",
              "      <th>multbrth</th>\n",
              "      <th>...</th>\n",
              "      <th>poverty_i</th>\n",
              "      <th>laborfor_i</th>\n",
              "      <th>religion_i</th>\n",
              "      <th>metro_i</th>\n",
              "      <th>basewgt</th>\n",
              "      <th>adj_mod_basewgt</th>\n",
              "      <th>finalwgt</th>\n",
              "      <th>secu_p</th>\n",
              "      <th>sest</th>\n",
              "      <th>cmintvw</th>\n",
              "    </tr>\n",
              "  </thead>\n",
              "  <tbody>\n",
              "    <tr>\n",
              "      <th>0</th>\n",
              "      <td>1</td>\n",
              "      <td>1</td>\n",
              "      <td>NaN</td>\n",
              "      <td>NaN</td>\n",
              "      <td>NaN</td>\n",
              "      <td>NaN</td>\n",
              "      <td>6.0</td>\n",
              "      <td>NaN</td>\n",
              "      <td>1.0</td>\n",
              "      <td>NaN</td>\n",
              "      <td>...</td>\n",
              "      <td>0</td>\n",
              "      <td>0</td>\n",
              "      <td>0</td>\n",
              "      <td>0</td>\n",
              "      <td>3410.389399</td>\n",
              "      <td>3869.349602</td>\n",
              "      <td>6448.271112</td>\n",
              "      <td>2</td>\n",
              "      <td>9</td>\n",
              "      <td>1231</td>\n",
              "    </tr>\n",
              "    <tr>\n",
              "      <th>1</th>\n",
              "      <td>1</td>\n",
              "      <td>2</td>\n",
              "      <td>NaN</td>\n",
              "      <td>NaN</td>\n",
              "      <td>NaN</td>\n",
              "      <td>NaN</td>\n",
              "      <td>6.0</td>\n",
              "      <td>NaN</td>\n",
              "      <td>1.0</td>\n",
              "      <td>NaN</td>\n",
              "      <td>...</td>\n",
              "      <td>0</td>\n",
              "      <td>0</td>\n",
              "      <td>0</td>\n",
              "      <td>0</td>\n",
              "      <td>3410.389399</td>\n",
              "      <td>3869.349602</td>\n",
              "      <td>6448.271112</td>\n",
              "      <td>2</td>\n",
              "      <td>9</td>\n",
              "      <td>1231</td>\n",
              "    </tr>\n",
              "    <tr>\n",
              "      <th>2</th>\n",
              "      <td>2</td>\n",
              "      <td>1</td>\n",
              "      <td>NaN</td>\n",
              "      <td>NaN</td>\n",
              "      <td>NaN</td>\n",
              "      <td>NaN</td>\n",
              "      <td>5.0</td>\n",
              "      <td>NaN</td>\n",
              "      <td>3.0</td>\n",
              "      <td>5.0</td>\n",
              "      <td>...</td>\n",
              "      <td>0</td>\n",
              "      <td>0</td>\n",
              "      <td>0</td>\n",
              "      <td>0</td>\n",
              "      <td>7226.301740</td>\n",
              "      <td>8567.549110</td>\n",
              "      <td>12999.542264</td>\n",
              "      <td>2</td>\n",
              "      <td>12</td>\n",
              "      <td>1231</td>\n",
              "    </tr>\n",
              "    <tr>\n",
              "      <th>3</th>\n",
              "      <td>2</td>\n",
              "      <td>2</td>\n",
              "      <td>NaN</td>\n",
              "      <td>NaN</td>\n",
              "      <td>NaN</td>\n",
              "      <td>NaN</td>\n",
              "      <td>6.0</td>\n",
              "      <td>NaN</td>\n",
              "      <td>1.0</td>\n",
              "      <td>NaN</td>\n",
              "      <td>...</td>\n",
              "      <td>0</td>\n",
              "      <td>0</td>\n",
              "      <td>0</td>\n",
              "      <td>0</td>\n",
              "      <td>7226.301740</td>\n",
              "      <td>8567.549110</td>\n",
              "      <td>12999.542264</td>\n",
              "      <td>2</td>\n",
              "      <td>12</td>\n",
              "      <td>1231</td>\n",
              "    </tr>\n",
              "    <tr>\n",
              "      <th>4</th>\n",
              "      <td>2</td>\n",
              "      <td>3</td>\n",
              "      <td>NaN</td>\n",
              "      <td>NaN</td>\n",
              "      <td>NaN</td>\n",
              "      <td>NaN</td>\n",
              "      <td>6.0</td>\n",
              "      <td>NaN</td>\n",
              "      <td>1.0</td>\n",
              "      <td>NaN</td>\n",
              "      <td>...</td>\n",
              "      <td>0</td>\n",
              "      <td>0</td>\n",
              "      <td>0</td>\n",
              "      <td>0</td>\n",
              "      <td>7226.301740</td>\n",
              "      <td>8567.549110</td>\n",
              "      <td>12999.542264</td>\n",
              "      <td>2</td>\n",
              "      <td>12</td>\n",
              "      <td>1231</td>\n",
              "    </tr>\n",
              "  </tbody>\n",
              "</table>\n",
              "<p>5 rows × 243 columns</p>\n",
              "</div>\n",
              "    <div class=\"colab-df-buttons\">\n",
              "\n",
              "  <div class=\"colab-df-container\">\n",
              "    <button class=\"colab-df-convert\" onclick=\"convertToInteractive('df-fc9ba33e-ea89-4cb1-9d9c-a9be7c8c0d68')\"\n",
              "            title=\"Convert this dataframe to an interactive table.\"\n",
              "            style=\"display:none;\">\n",
              "\n",
              "  <svg xmlns=\"http://www.w3.org/2000/svg\" height=\"24px\" viewBox=\"0 -960 960 960\">\n",
              "    <path d=\"M120-120v-720h720v720H120Zm60-500h600v-160H180v160Zm220 220h160v-160H400v160Zm0 220h160v-160H400v160ZM180-400h160v-160H180v160Zm440 0h160v-160H620v160ZM180-180h160v-160H180v160Zm440 0h160v-160H620v160Z\"/>\n",
              "  </svg>\n",
              "    </button>\n",
              "\n",
              "  <style>\n",
              "    .colab-df-container {\n",
              "      display:flex;\n",
              "      gap: 12px;\n",
              "    }\n",
              "\n",
              "    .colab-df-convert {\n",
              "      background-color: #E8F0FE;\n",
              "      border: none;\n",
              "      border-radius: 50%;\n",
              "      cursor: pointer;\n",
              "      display: none;\n",
              "      fill: #1967D2;\n",
              "      height: 32px;\n",
              "      padding: 0 0 0 0;\n",
              "      width: 32px;\n",
              "    }\n",
              "\n",
              "    .colab-df-convert:hover {\n",
              "      background-color: #E2EBFA;\n",
              "      box-shadow: 0px 1px 2px rgba(60, 64, 67, 0.3), 0px 1px 3px 1px rgba(60, 64, 67, 0.15);\n",
              "      fill: #174EA6;\n",
              "    }\n",
              "\n",
              "    .colab-df-buttons div {\n",
              "      margin-bottom: 4px;\n",
              "    }\n",
              "\n",
              "    [theme=dark] .colab-df-convert {\n",
              "      background-color: #3B4455;\n",
              "      fill: #D2E3FC;\n",
              "    }\n",
              "\n",
              "    [theme=dark] .colab-df-convert:hover {\n",
              "      background-color: #434B5C;\n",
              "      box-shadow: 0px 1px 3px 1px rgba(0, 0, 0, 0.15);\n",
              "      filter: drop-shadow(0px 1px 2px rgba(0, 0, 0, 0.3));\n",
              "      fill: #FFFFFF;\n",
              "    }\n",
              "  </style>\n",
              "\n",
              "    <script>\n",
              "      const buttonEl =\n",
              "        document.querySelector('#df-fc9ba33e-ea89-4cb1-9d9c-a9be7c8c0d68 button.colab-df-convert');\n",
              "      buttonEl.style.display =\n",
              "        google.colab.kernel.accessAllowed ? 'block' : 'none';\n",
              "\n",
              "      async function convertToInteractive(key) {\n",
              "        const element = document.querySelector('#df-fc9ba33e-ea89-4cb1-9d9c-a9be7c8c0d68');\n",
              "        const dataTable =\n",
              "          await google.colab.kernel.invokeFunction('convertToInteractive',\n",
              "                                                    [key], {});\n",
              "        if (!dataTable) return;\n",
              "\n",
              "        const docLinkHtml = 'Like what you see? Visit the ' +\n",
              "          '<a target=\"_blank\" href=https://colab.research.google.com/notebooks/data_table.ipynb>data table notebook</a>'\n",
              "          + ' to learn more about interactive tables.';\n",
              "        element.innerHTML = '';\n",
              "        dataTable['output_type'] = 'display_data';\n",
              "        await google.colab.output.renderOutput(dataTable, element);\n",
              "        const docLink = document.createElement('div');\n",
              "        docLink.innerHTML = docLinkHtml;\n",
              "        element.appendChild(docLink);\n",
              "      }\n",
              "    </script>\n",
              "  </div>\n",
              "\n",
              "\n",
              "<div id=\"df-866569c1-35ea-4e83-8138-2aeab3c9b713\">\n",
              "  <button class=\"colab-df-quickchart\" onclick=\"quickchart('df-866569c1-35ea-4e83-8138-2aeab3c9b713')\"\n",
              "            title=\"Suggest charts\"\n",
              "            style=\"display:none;\">\n",
              "\n",
              "<svg xmlns=\"http://www.w3.org/2000/svg\" height=\"24px\"viewBox=\"0 0 24 24\"\n",
              "     width=\"24px\">\n",
              "    <g>\n",
              "        <path d=\"M19 3H5c-1.1 0-2 .9-2 2v14c0 1.1.9 2 2 2h14c1.1 0 2-.9 2-2V5c0-1.1-.9-2-2-2zM9 17H7v-7h2v7zm4 0h-2V7h2v10zm4 0h-2v-4h2v4z\"/>\n",
              "    </g>\n",
              "</svg>\n",
              "  </button>\n",
              "\n",
              "<style>\n",
              "  .colab-df-quickchart {\n",
              "      --bg-color: #E8F0FE;\n",
              "      --fill-color: #1967D2;\n",
              "      --hover-bg-color: #E2EBFA;\n",
              "      --hover-fill-color: #174EA6;\n",
              "      --disabled-fill-color: #AAA;\n",
              "      --disabled-bg-color: #DDD;\n",
              "  }\n",
              "\n",
              "  [theme=dark] .colab-df-quickchart {\n",
              "      --bg-color: #3B4455;\n",
              "      --fill-color: #D2E3FC;\n",
              "      --hover-bg-color: #434B5C;\n",
              "      --hover-fill-color: #FFFFFF;\n",
              "      --disabled-bg-color: #3B4455;\n",
              "      --disabled-fill-color: #666;\n",
              "  }\n",
              "\n",
              "  .colab-df-quickchart {\n",
              "    background-color: var(--bg-color);\n",
              "    border: none;\n",
              "    border-radius: 50%;\n",
              "    cursor: pointer;\n",
              "    display: none;\n",
              "    fill: var(--fill-color);\n",
              "    height: 32px;\n",
              "    padding: 0;\n",
              "    width: 32px;\n",
              "  }\n",
              "\n",
              "  .colab-df-quickchart:hover {\n",
              "    background-color: var(--hover-bg-color);\n",
              "    box-shadow: 0 1px 2px rgba(60, 64, 67, 0.3), 0 1px 3px 1px rgba(60, 64, 67, 0.15);\n",
              "    fill: var(--button-hover-fill-color);\n",
              "  }\n",
              "\n",
              "  .colab-df-quickchart-complete:disabled,\n",
              "  .colab-df-quickchart-complete:disabled:hover {\n",
              "    background-color: var(--disabled-bg-color);\n",
              "    fill: var(--disabled-fill-color);\n",
              "    box-shadow: none;\n",
              "  }\n",
              "\n",
              "  .colab-df-spinner {\n",
              "    border: 2px solid var(--fill-color);\n",
              "    border-color: transparent;\n",
              "    border-bottom-color: var(--fill-color);\n",
              "    animation:\n",
              "      spin 1s steps(1) infinite;\n",
              "  }\n",
              "\n",
              "  @keyframes spin {\n",
              "    0% {\n",
              "      border-color: transparent;\n",
              "      border-bottom-color: var(--fill-color);\n",
              "      border-left-color: var(--fill-color);\n",
              "    }\n",
              "    20% {\n",
              "      border-color: transparent;\n",
              "      border-left-color: var(--fill-color);\n",
              "      border-top-color: var(--fill-color);\n",
              "    }\n",
              "    30% {\n",
              "      border-color: transparent;\n",
              "      border-left-color: var(--fill-color);\n",
              "      border-top-color: var(--fill-color);\n",
              "      border-right-color: var(--fill-color);\n",
              "    }\n",
              "    40% {\n",
              "      border-color: transparent;\n",
              "      border-right-color: var(--fill-color);\n",
              "      border-top-color: var(--fill-color);\n",
              "    }\n",
              "    60% {\n",
              "      border-color: transparent;\n",
              "      border-right-color: var(--fill-color);\n",
              "    }\n",
              "    80% {\n",
              "      border-color: transparent;\n",
              "      border-right-color: var(--fill-color);\n",
              "      border-bottom-color: var(--fill-color);\n",
              "    }\n",
              "    90% {\n",
              "      border-color: transparent;\n",
              "      border-bottom-color: var(--fill-color);\n",
              "    }\n",
              "  }\n",
              "</style>\n",
              "\n",
              "  <script>\n",
              "    async function quickchart(key) {\n",
              "      const quickchartButtonEl =\n",
              "        document.querySelector('#' + key + ' button');\n",
              "      quickchartButtonEl.disabled = true;  // To prevent multiple clicks.\n",
              "      quickchartButtonEl.classList.add('colab-df-spinner');\n",
              "      try {\n",
              "        const charts = await google.colab.kernel.invokeFunction(\n",
              "            'suggestCharts', [key], {});\n",
              "      } catch (error) {\n",
              "        console.error('Error during call to suggestCharts:', error);\n",
              "      }\n",
              "      quickchartButtonEl.classList.remove('colab-df-spinner');\n",
              "      quickchartButtonEl.classList.add('colab-df-quickchart-complete');\n",
              "    }\n",
              "    (() => {\n",
              "      let quickchartButtonEl =\n",
              "        document.querySelector('#df-866569c1-35ea-4e83-8138-2aeab3c9b713 button');\n",
              "      quickchartButtonEl.style.display =\n",
              "        google.colab.kernel.accessAllowed ? 'block' : 'none';\n",
              "    })();\n",
              "  </script>\n",
              "</div>\n",
              "\n",
              "    </div>\n",
              "  </div>\n"
            ],
            "application/vnd.google.colaboratory.intrinsic+json": {
              "type": "dataframe",
              "variable_name": "preg"
            }
          },
          "metadata": {},
          "execution_count": 12
        }
      ],
      "source": [
        "preg.head()"
      ]
    },
    {
      "cell_type": "markdown",
      "id": "dc660341",
      "metadata": {
        "id": "dc660341"
      },
      "source": [
        "The first column is the index of the `DataFrame`, which contains a label for each row.\n",
        "In this case, the labels are integers starting from 0, but they can also be strings and other types.\n",
        "\n",
        "The `DataFrame` has an attribute called `columns` that contains the names of the columns."
      ]
    },
    {
      "cell_type": "code",
      "execution_count": 13,
      "id": "4f59f46d",
      "metadata": {
        "scrolled": true,
        "colab": {
          "base_uri": "https://localhost:8080/"
        },
        "id": "4f59f46d",
        "outputId": "ad5a5ebe-f576-4c74-8581-14f104fa93b3"
      },
      "outputs": [
        {
          "output_type": "execute_result",
          "data": {
            "text/plain": [
              "Index(['caseid', 'pregordr', 'howpreg_n', 'howpreg_p', 'moscurrp', 'nowprgdk',\n",
              "       'pregend1', 'pregend2', 'nbrnaliv', 'multbrth',\n",
              "       ...\n",
              "       'poverty_i', 'laborfor_i', 'religion_i', 'metro_i', 'basewgt',\n",
              "       'adj_mod_basewgt', 'finalwgt', 'secu_p', 'sest', 'cmintvw'],\n",
              "      dtype='object', length=243)"
            ]
          },
          "metadata": {},
          "execution_count": 13
        }
      ],
      "source": [
        "preg.columns"
      ]
    },
    {
      "cell_type": "markdown",
      "id": "e82ef6e6",
      "metadata": {
        "id": "e82ef6e6"
      },
      "source": [
        "The column names are contained in an `Index` object, which is another Pandas data structure.\n",
        "To access a column from a `DataFrame`, you can use the column name as a key."
      ]
    },
    {
      "cell_type": "code",
      "execution_count": 14,
      "id": "e7dbfce1",
      "metadata": {
        "colab": {
          "base_uri": "https://localhost:8080/",
          "height": 204
        },
        "id": "e7dbfce1",
        "outputId": "6bd86405-ed65-4e23-f38f-3a8f47650efd"
      },
      "outputs": [
        {
          "output_type": "execute_result",
          "data": {
            "text/plain": [
              "pandas.core.series.Series"
            ],
            "text/html": [
              "<div style=\"max-width:800px; border: 1px solid var(--colab-border-color);\"><style>\n",
              "      pre.function-repr-contents {\n",
              "        overflow-x: auto;\n",
              "        padding: 8px 12px;\n",
              "        max-height: 500px;\n",
              "      }\n",
              "\n",
              "      pre.function-repr-contents.function-repr-contents-collapsed {\n",
              "        cursor: pointer;\n",
              "        max-height: 100px;\n",
              "      }\n",
              "    </style>\n",
              "    <pre style=\"white-space: initial; background:\n",
              "         var(--colab-secondary-surface-color); padding: 8px 12px;\n",
              "         border-bottom: 1px solid var(--colab-border-color);\"><b>pandas.core.series.Series</b><br/>def __init__(data=None, index=None, dtype: Dtype | None=None, name=None, copy: bool | None=None, fastpath: bool | lib.NoDefault=lib.no_default) -&gt; None</pre><pre class=\"function-repr-contents function-repr-contents-collapsed\" style=\"\"><a class=\"filepath\" style=\"display:none\" href=\"#\">/usr/local/lib/python3.10/dist-packages/pandas/core/series.py</a>One-dimensional ndarray with axis labels (including time series).\n",
              "\n",
              "Labels need not be unique but must be a hashable type. The object\n",
              "supports both integer- and label-based indexing and provides a host of\n",
              "methods for performing operations involving the index. Statistical\n",
              "methods from ndarray have been overridden to automatically exclude\n",
              "missing data (currently represented as NaN).\n",
              "\n",
              "Operations between Series (+, -, /, \\*, \\*\\*) align values based on their\n",
              "associated index values-- they need not be the same length. The result\n",
              "index will be the sorted union of the two indexes.\n",
              "\n",
              "Parameters\n",
              "----------\n",
              "data : array-like, Iterable, dict, or scalar value\n",
              "    Contains data stored in Series. If data is a dict, argument order is\n",
              "    maintained.\n",
              "index : array-like or Index (1d)\n",
              "    Values must be hashable and have the same length as `data`.\n",
              "    Non-unique index values are allowed. Will default to\n",
              "    RangeIndex (0, 1, 2, ..., n) if not provided. If data is dict-like\n",
              "    and index is None, then the keys in the data are used as the index. If the\n",
              "    index is not None, the resulting Series is reindexed with the index values.\n",
              "dtype : str, numpy.dtype, or ExtensionDtype, optional\n",
              "    Data type for the output Series. If not specified, this will be\n",
              "    inferred from `data`.\n",
              "    See the :ref:`user guide &lt;basics.dtypes&gt;` for more usages.\n",
              "name : Hashable, default None\n",
              "    The name to give to the Series.\n",
              "copy : bool, default False\n",
              "    Copy input data. Only affects Series or 1d ndarray input. See examples.\n",
              "\n",
              "Notes\n",
              "-----\n",
              "Please reference the :ref:`User Guide &lt;basics.series&gt;` for more information.\n",
              "\n",
              "Examples\n",
              "--------\n",
              "Constructing Series from a dictionary with an Index specified\n",
              "\n",
              "&gt;&gt;&gt; d = {&#x27;a&#x27;: 1, &#x27;b&#x27;: 2, &#x27;c&#x27;: 3}\n",
              "&gt;&gt;&gt; ser = pd.Series(data=d, index=[&#x27;a&#x27;, &#x27;b&#x27;, &#x27;c&#x27;])\n",
              "&gt;&gt;&gt; ser\n",
              "a   1\n",
              "b   2\n",
              "c   3\n",
              "dtype: int64\n",
              "\n",
              "The keys of the dictionary match with the Index values, hence the Index\n",
              "values have no effect.\n",
              "\n",
              "&gt;&gt;&gt; d = {&#x27;a&#x27;: 1, &#x27;b&#x27;: 2, &#x27;c&#x27;: 3}\n",
              "&gt;&gt;&gt; ser = pd.Series(data=d, index=[&#x27;x&#x27;, &#x27;y&#x27;, &#x27;z&#x27;])\n",
              "&gt;&gt;&gt; ser\n",
              "x   NaN\n",
              "y   NaN\n",
              "z   NaN\n",
              "dtype: float64\n",
              "\n",
              "Note that the Index is first build with the keys from the dictionary.\n",
              "After this the Series is reindexed with the given Index values, hence we\n",
              "get all NaN as a result.\n",
              "\n",
              "Constructing Series from a list with `copy=False`.\n",
              "\n",
              "&gt;&gt;&gt; r = [1, 2]\n",
              "&gt;&gt;&gt; ser = pd.Series(r, copy=False)\n",
              "&gt;&gt;&gt; ser.iloc[0] = 999\n",
              "&gt;&gt;&gt; r\n",
              "[1, 2]\n",
              "&gt;&gt;&gt; ser\n",
              "0    999\n",
              "1      2\n",
              "dtype: int64\n",
              "\n",
              "Due to input data type the Series has a `copy` of\n",
              "the original data even though `copy=False`, so\n",
              "the data is unchanged.\n",
              "\n",
              "Constructing Series from a 1d ndarray with `copy=False`.\n",
              "\n",
              "&gt;&gt;&gt; r = np.array([1, 2])\n",
              "&gt;&gt;&gt; ser = pd.Series(r, copy=False)\n",
              "&gt;&gt;&gt; ser.iloc[0] = 999\n",
              "&gt;&gt;&gt; r\n",
              "array([999,   2])\n",
              "&gt;&gt;&gt; ser\n",
              "0    999\n",
              "1      2\n",
              "dtype: int64\n",
              "\n",
              "Due to input data type the Series has a `view` on\n",
              "the original data, so\n",
              "the data is changed as well.</pre>\n",
              "      <script>\n",
              "      if (google.colab.kernel.accessAllowed && google.colab.files && google.colab.files.view) {\n",
              "        for (const element of document.querySelectorAll('.filepath')) {\n",
              "          element.style.display = 'block'\n",
              "          element.onclick = (event) => {\n",
              "            event.preventDefault();\n",
              "            event.stopPropagation();\n",
              "            google.colab.files.view(element.textContent, 263);\n",
              "          };\n",
              "        }\n",
              "      }\n",
              "      for (const element of document.querySelectorAll('.function-repr-contents')) {\n",
              "        element.onclick = (event) => {\n",
              "          event.preventDefault();\n",
              "          event.stopPropagation();\n",
              "          element.classList.toggle('function-repr-contents-collapsed');\n",
              "        };\n",
              "      }\n",
              "      </script>\n",
              "      </div>"
            ]
          },
          "metadata": {},
          "execution_count": 14
        }
      ],
      "source": [
        "pregordr = preg[\"pregordr\"]\n",
        "type(pregordr)"
      ]
    },
    {
      "cell_type": "markdown",
      "id": "aad9af2d",
      "metadata": {
        "id": "aad9af2d"
      },
      "source": [
        "The result is a Pandas `Series`, which represents a sequence of values.\n",
        "`Series` also provides `head`, which displays the first few values and their labels."
      ]
    },
    {
      "cell_type": "code",
      "execution_count": 15,
      "id": "189b4869",
      "metadata": {
        "colab": {
          "base_uri": "https://localhost:8080/",
          "height": 241
        },
        "id": "189b4869",
        "outputId": "1756f138-5db6-4979-d33f-4e128ae97bfe"
      },
      "outputs": [
        {
          "output_type": "execute_result",
          "data": {
            "text/plain": [
              "0    1\n",
              "1    2\n",
              "2    1\n",
              "3    2\n",
              "4    3\n",
              "Name: pregordr, dtype: int64"
            ],
            "text/html": [
              "<div>\n",
              "<style scoped>\n",
              "    .dataframe tbody tr th:only-of-type {\n",
              "        vertical-align: middle;\n",
              "    }\n",
              "\n",
              "    .dataframe tbody tr th {\n",
              "        vertical-align: top;\n",
              "    }\n",
              "\n",
              "    .dataframe thead th {\n",
              "        text-align: right;\n",
              "    }\n",
              "</style>\n",
              "<table border=\"1\" class=\"dataframe\">\n",
              "  <thead>\n",
              "    <tr style=\"text-align: right;\">\n",
              "      <th></th>\n",
              "      <th>pregordr</th>\n",
              "    </tr>\n",
              "  </thead>\n",
              "  <tbody>\n",
              "    <tr>\n",
              "      <th>0</th>\n",
              "      <td>1</td>\n",
              "    </tr>\n",
              "    <tr>\n",
              "      <th>1</th>\n",
              "      <td>2</td>\n",
              "    </tr>\n",
              "    <tr>\n",
              "      <th>2</th>\n",
              "      <td>1</td>\n",
              "    </tr>\n",
              "    <tr>\n",
              "      <th>3</th>\n",
              "      <td>2</td>\n",
              "    </tr>\n",
              "    <tr>\n",
              "      <th>4</th>\n",
              "      <td>3</td>\n",
              "    </tr>\n",
              "  </tbody>\n",
              "</table>\n",
              "</div><br><label><b>dtype:</b> int64</label>"
            ]
          },
          "metadata": {},
          "execution_count": 15
        }
      ],
      "source": [
        "pregordr.head()"
      ]
    },
    {
      "cell_type": "markdown",
      "id": "1862cdfe",
      "metadata": {
        "id": "1862cdfe"
      },
      "source": [
        "The last line includes the name of the `Series` and `dtype`, which is the type of the values.\n",
        "In this example, `int64` indicates that the values are 64-bit integers.\n",
        "\n",
        "The NSFG dataset contains 243 variables in total.\n",
        "Here are some of the ones we'll use for the explorations in this book.\n",
        "\n",
        "-   `caseid` is the integer ID of the respondent.\n",
        "\n",
        "-   `pregordr` is a pregnancy serial number; for example, the code for a respondent's first pregnancy is 1, for the second pregnancy is 2, and so on.\n",
        "\n",
        "-   `prglngth` is the integer duration of the pregnancy in weeks.\n",
        "\n",
        "-   `outcome` is an integer code for the outcome of the pregnancy. The code 1 indicates a live birth.\n",
        "\n",
        "-   `birthord` is a serial number for live births; the code for a respondent's first child is 1, and so on. For outcomes other than live birth, this field is blank.\n",
        "\n",
        "-   `birthwgt_lb` and `birthwgt_oz` contain the pounds and ounces parts of the birth weight of the baby.\n",
        "\n",
        "-   `agepreg` is the mother's age at the end of the pregnancy.\n",
        "\n",
        "-   `finalwgt` is the statistical weight associated with the respondent. It is a floating-point value that indicates the number of people in the U.S. population this respondent represents."
      ]
    },
    {
      "cell_type": "markdown",
      "id": "37c86aa9",
      "metadata": {
        "id": "37c86aa9"
      },
      "source": [
        "If you read the codebook carefully, you will see that many of the variables are **recodes**, which means that they are not part of the **raw data** collected by the survey -- they are calculated using the raw data.\n",
        "\n",
        "For example, `prglngth` for live births is equal to the raw variable `wksgest` (weeks of gestation) if it is available; otherwise it is estimated using `mosgest * 4.33` (months of gestation times the average number of weeks in a month).\n",
        "\n",
        "Recodes are often based on logic that checks the consistency and accuracy of the data.\n",
        "In general it is a good idea to use recodes when they are available, unless there is a compelling reason to process the raw data yourself."
      ]
    },
    {
      "cell_type": "markdown",
      "id": "ca667a83",
      "metadata": {
        "id": "ca667a83"
      },
      "source": [
        "## Validation\n",
        "\n",
        "When data is exported from one software environment and imported into another, errors might be introduced.\n",
        "And when you are getting familiar with a new dataset, you might interpret data incorrectly or introduce other misunderstandings.\n",
        "If you take time to validate the data, you can save time later and avoid errors.\n",
        "\n",
        "One way to validate data is to compute basic statistics and compare them with published results.\n",
        "For example, the NSFG codebook includes tables that summarize each variable.\n",
        "Here is the table for `outcome`, which encodes the outcome of each pregnancy."
      ]
    },
    {
      "cell_type": "code",
      "execution_count": 16,
      "id": "f65302bc",
      "metadata": {
        "tags": [],
        "id": "f65302bc"
      },
      "outputs": [],
      "source": [
        "def show_table(d):\n",
        "    df = pd.DataFrame(d)\n",
        "    return HTML(df.to_html(index=False))"
      ]
    },
    {
      "cell_type": "code",
      "execution_count": 17,
      "id": "3b2e14f8",
      "metadata": {
        "tags": [],
        "colab": {
          "base_uri": "https://localhost:8080/",
          "height": 269
        },
        "id": "3b2e14f8",
        "outputId": "d4a0abd1-aa2a-435c-97b6-72d51e59659f"
      },
      "outputs": [
        {
          "output_type": "execute_result",
          "data": {
            "text/plain": [
              "<IPython.core.display.HTML object>"
            ],
            "text/html": [
              "<table border=\"1\" class=\"dataframe\">\n",
              "  <thead>\n",
              "    <tr style=\"text-align: right;\">\n",
              "      <th>Value</th>\n",
              "      <th>Label</th>\n",
              "      <th>Total</th>\n",
              "    </tr>\n",
              "  </thead>\n",
              "  <tbody>\n",
              "    <tr>\n",
              "      <td>1</td>\n",
              "      <td>LIVE BIRTH</td>\n",
              "      <td>9148</td>\n",
              "    </tr>\n",
              "    <tr>\n",
              "      <td>2</td>\n",
              "      <td>INDUCED ABORTION</td>\n",
              "      <td>1862</td>\n",
              "    </tr>\n",
              "    <tr>\n",
              "      <td>3</td>\n",
              "      <td>STILLBIRTH</td>\n",
              "      <td>120</td>\n",
              "    </tr>\n",
              "    <tr>\n",
              "      <td>4</td>\n",
              "      <td>MISCARRIAGE</td>\n",
              "      <td>1921</td>\n",
              "    </tr>\n",
              "    <tr>\n",
              "      <td>5</td>\n",
              "      <td>ECTOPIC PREGNANCY</td>\n",
              "      <td>190</td>\n",
              "    </tr>\n",
              "    <tr>\n",
              "      <td>6</td>\n",
              "      <td>CURRENT PREGNANCY</td>\n",
              "      <td>352</td>\n",
              "    </tr>\n",
              "    <tr>\n",
              "      <td>Total</td>\n",
              "      <td></td>\n",
              "      <td>13593</td>\n",
              "    </tr>\n",
              "  </tbody>\n",
              "</table>"
            ]
          },
          "metadata": {},
          "execution_count": 17
        }
      ],
      "source": [
        "d = {\n",
        "    \"Value\": [1, 2, 3, 4, 5, 6, \"Total\"],\n",
        "    \"Label\": [\n",
        "        \"LIVE BIRTH\",\n",
        "        \"INDUCED ABORTION\",\n",
        "        \"STILLBIRTH\",\n",
        "        \"MISCARRIAGE\",\n",
        "        \"ECTOPIC PREGNANCY\",\n",
        "        \"CURRENT PREGNANCY\",\n",
        "        \"\",\n",
        "    ],\n",
        "    \"Total\": [9148, 1862, 120, 1921, 190, 352, 13593],\n",
        "}\n",
        "\n",
        "show_table(d)"
      ]
    },
    {
      "cell_type": "markdown",
      "id": "cb9d01a0",
      "metadata": {
        "id": "cb9d01a0"
      },
      "source": [
        "The \"Total\" column indicates the number of pregnancies with each outcome.\n",
        "To check these totals, we'll use the `value_counts` method, which counts the number of times each value appears, and `sort_index`, which sorts the results according to the values in the `Index` (the left column)."
      ]
    },
    {
      "cell_type": "code",
      "execution_count": 18,
      "id": "61fc2a3d",
      "metadata": {
        "colab": {
          "base_uri": "https://localhost:8080/",
          "height": 304
        },
        "id": "61fc2a3d",
        "outputId": "eaa2ec06-45e3-4ef7-b9f8-fc59800c3cee"
      },
      "outputs": [
        {
          "output_type": "execute_result",
          "data": {
            "text/plain": [
              "outcome\n",
              "1    9148\n",
              "2    1862\n",
              "3     120\n",
              "4    1921\n",
              "5     190\n",
              "6     352\n",
              "Name: count, dtype: int64"
            ],
            "text/html": [
              "<div>\n",
              "<style scoped>\n",
              "    .dataframe tbody tr th:only-of-type {\n",
              "        vertical-align: middle;\n",
              "    }\n",
              "\n",
              "    .dataframe tbody tr th {\n",
              "        vertical-align: top;\n",
              "    }\n",
              "\n",
              "    .dataframe thead th {\n",
              "        text-align: right;\n",
              "    }\n",
              "</style>\n",
              "<table border=\"1\" class=\"dataframe\">\n",
              "  <thead>\n",
              "    <tr style=\"text-align: right;\">\n",
              "      <th></th>\n",
              "      <th>count</th>\n",
              "    </tr>\n",
              "    <tr>\n",
              "      <th>outcome</th>\n",
              "      <th></th>\n",
              "    </tr>\n",
              "  </thead>\n",
              "  <tbody>\n",
              "    <tr>\n",
              "      <th>1</th>\n",
              "      <td>9148</td>\n",
              "    </tr>\n",
              "    <tr>\n",
              "      <th>2</th>\n",
              "      <td>1862</td>\n",
              "    </tr>\n",
              "    <tr>\n",
              "      <th>3</th>\n",
              "      <td>120</td>\n",
              "    </tr>\n",
              "    <tr>\n",
              "      <th>4</th>\n",
              "      <td>1921</td>\n",
              "    </tr>\n",
              "    <tr>\n",
              "      <th>5</th>\n",
              "      <td>190</td>\n",
              "    </tr>\n",
              "    <tr>\n",
              "      <th>6</th>\n",
              "      <td>352</td>\n",
              "    </tr>\n",
              "  </tbody>\n",
              "</table>\n",
              "</div><br><label><b>dtype:</b> int64</label>"
            ]
          },
          "metadata": {},
          "execution_count": 18
        }
      ],
      "source": [
        "preg[\"outcome\"].value_counts().sort_index()"
      ]
    },
    {
      "cell_type": "markdown",
      "id": "d57f49ea",
      "metadata": {
        "id": "d57f49ea"
      },
      "source": [
        "Comparing the results with the published table, we can confirm that the values in `outcome` are correct.\n",
        "Similarly, here is the published table for `birthwgt_lb`."
      ]
    },
    {
      "cell_type": "code",
      "execution_count": 19,
      "id": "e6986496",
      "metadata": {
        "tags": [],
        "colab": {
          "base_uri": "https://localhost:8080/",
          "height": 363
        },
        "id": "e6986496",
        "outputId": "e46abc69-1d5f-4815-bcd6-47ae9b6dbb04"
      },
      "outputs": [
        {
          "output_type": "execute_result",
          "data": {
            "text/plain": [
              "<IPython.core.display.HTML object>"
            ],
            "text/html": [
              "<table border=\"1\" class=\"dataframe\">\n",
              "  <thead>\n",
              "    <tr style=\"text-align: right;\">\n",
              "      <th>Value</th>\n",
              "      <th>Label</th>\n",
              "      <th>Total</th>\n",
              "    </tr>\n",
              "  </thead>\n",
              "  <tbody>\n",
              "    <tr>\n",
              "      <td>.</td>\n",
              "      <td>inapplicable</td>\n",
              "      <td>4449</td>\n",
              "    </tr>\n",
              "    <tr>\n",
              "      <td>0-5</td>\n",
              "      <td>UNDER 6 POUNDS</td>\n",
              "      <td>1125</td>\n",
              "    </tr>\n",
              "    <tr>\n",
              "      <td>6</td>\n",
              "      <td>6 POUNDS</td>\n",
              "      <td>2223</td>\n",
              "    </tr>\n",
              "    <tr>\n",
              "      <td>7</td>\n",
              "      <td>7 POUNDS</td>\n",
              "      <td>3049</td>\n",
              "    </tr>\n",
              "    <tr>\n",
              "      <td>8</td>\n",
              "      <td>8 POUNDS</td>\n",
              "      <td>1889</td>\n",
              "    </tr>\n",
              "    <tr>\n",
              "      <td>9-95</td>\n",
              "      <td>9 POUNDS OR MORE</td>\n",
              "      <td>799</td>\n",
              "    </tr>\n",
              "    <tr>\n",
              "      <td>97</td>\n",
              "      <td>Not ascertained</td>\n",
              "      <td>1</td>\n",
              "    </tr>\n",
              "    <tr>\n",
              "      <td>98</td>\n",
              "      <td>REFUSED</td>\n",
              "      <td>1</td>\n",
              "    </tr>\n",
              "    <tr>\n",
              "      <td>99</td>\n",
              "      <td>DON'T KNOW</td>\n",
              "      <td>57</td>\n",
              "    </tr>\n",
              "    <tr>\n",
              "      <td>Total</td>\n",
              "      <td></td>\n",
              "      <td>13593</td>\n",
              "    </tr>\n",
              "  </tbody>\n",
              "</table>"
            ]
          },
          "metadata": {},
          "execution_count": 19
        }
      ],
      "source": [
        "d = {\n",
        "    \"Value\": [\".\", \"0-5\", \"6\", \"7\", \"8\", \"9-95\", \"97\", \"98\", \"99\", \"Total\"],\n",
        "    \"Label\": [\n",
        "        \"inapplicable\",\n",
        "        \"UNDER 6 POUNDS\",\n",
        "        \"6 POUNDS\",\n",
        "        \"7 POUNDS\",\n",
        "        \"8 POUNDS\",\n",
        "        \"9 POUNDS OR MORE\",\n",
        "        \"Not ascertained\",\n",
        "        \"REFUSED\",\n",
        "        \"DON'T KNOW\",\n",
        "        \"\",\n",
        "    ],\n",
        "    \"Total\": [4449, 1125, 2223, 3049, 1889, 799, 1, 1, 57, 13593],\n",
        "}\n",
        "\n",
        "show_table(d)"
      ]
    },
    {
      "cell_type": "markdown",
      "id": "afccd71b",
      "metadata": {
        "id": "afccd71b"
      },
      "source": [
        "Birth weight is only recorded for pregnancies that ended in a live birth.\n",
        "The table indicates that there are 4449 cases where this variable is inapplicable.\n",
        "In addition, there is one case where the question was not asked, one where the respondent did not answer, and 57 cases where they did not know.\n",
        "\n",
        "Again, we can use `value_counts` to compare the counts in the dataset to the counts in the codebook."
      ]
    },
    {
      "cell_type": "code",
      "execution_count": 20,
      "id": "c2cdb474",
      "metadata": {
        "colab": {
          "base_uri": "https://localhost:8080/",
          "height": 774
        },
        "id": "c2cdb474",
        "outputId": "67a93ed9-716e-4906-b389-e4b97566acc7"
      },
      "outputs": [
        {
          "output_type": "execute_result",
          "data": {
            "text/plain": [
              "birthwgt_lb\n",
              "0.0        8\n",
              "1.0       40\n",
              "2.0       53\n",
              "3.0       98\n",
              "4.0      229\n",
              "5.0      697\n",
              "6.0     2223\n",
              "7.0     3049\n",
              "8.0     1889\n",
              "9.0      623\n",
              "10.0     132\n",
              "11.0      26\n",
              "12.0      10\n",
              "13.0       3\n",
              "14.0       3\n",
              "15.0       1\n",
              "51.0       1\n",
              "97.0       1\n",
              "98.0       1\n",
              "99.0      57\n",
              "NaN     4449\n",
              "Name: count, dtype: int64"
            ],
            "text/html": [
              "<div>\n",
              "<style scoped>\n",
              "    .dataframe tbody tr th:only-of-type {\n",
              "        vertical-align: middle;\n",
              "    }\n",
              "\n",
              "    .dataframe tbody tr th {\n",
              "        vertical-align: top;\n",
              "    }\n",
              "\n",
              "    .dataframe thead th {\n",
              "        text-align: right;\n",
              "    }\n",
              "</style>\n",
              "<table border=\"1\" class=\"dataframe\">\n",
              "  <thead>\n",
              "    <tr style=\"text-align: right;\">\n",
              "      <th></th>\n",
              "      <th>count</th>\n",
              "    </tr>\n",
              "    <tr>\n",
              "      <th>birthwgt_lb</th>\n",
              "      <th></th>\n",
              "    </tr>\n",
              "  </thead>\n",
              "  <tbody>\n",
              "    <tr>\n",
              "      <th>0.0</th>\n",
              "      <td>8</td>\n",
              "    </tr>\n",
              "    <tr>\n",
              "      <th>1.0</th>\n",
              "      <td>40</td>\n",
              "    </tr>\n",
              "    <tr>\n",
              "      <th>2.0</th>\n",
              "      <td>53</td>\n",
              "    </tr>\n",
              "    <tr>\n",
              "      <th>3.0</th>\n",
              "      <td>98</td>\n",
              "    </tr>\n",
              "    <tr>\n",
              "      <th>4.0</th>\n",
              "      <td>229</td>\n",
              "    </tr>\n",
              "    <tr>\n",
              "      <th>5.0</th>\n",
              "      <td>697</td>\n",
              "    </tr>\n",
              "    <tr>\n",
              "      <th>6.0</th>\n",
              "      <td>2223</td>\n",
              "    </tr>\n",
              "    <tr>\n",
              "      <th>7.0</th>\n",
              "      <td>3049</td>\n",
              "    </tr>\n",
              "    <tr>\n",
              "      <th>8.0</th>\n",
              "      <td>1889</td>\n",
              "    </tr>\n",
              "    <tr>\n",
              "      <th>9.0</th>\n",
              "      <td>623</td>\n",
              "    </tr>\n",
              "    <tr>\n",
              "      <th>10.0</th>\n",
              "      <td>132</td>\n",
              "    </tr>\n",
              "    <tr>\n",
              "      <th>11.0</th>\n",
              "      <td>26</td>\n",
              "    </tr>\n",
              "    <tr>\n",
              "      <th>12.0</th>\n",
              "      <td>10</td>\n",
              "    </tr>\n",
              "    <tr>\n",
              "      <th>13.0</th>\n",
              "      <td>3</td>\n",
              "    </tr>\n",
              "    <tr>\n",
              "      <th>14.0</th>\n",
              "      <td>3</td>\n",
              "    </tr>\n",
              "    <tr>\n",
              "      <th>15.0</th>\n",
              "      <td>1</td>\n",
              "    </tr>\n",
              "    <tr>\n",
              "      <th>51.0</th>\n",
              "      <td>1</td>\n",
              "    </tr>\n",
              "    <tr>\n",
              "      <th>97.0</th>\n",
              "      <td>1</td>\n",
              "    </tr>\n",
              "    <tr>\n",
              "      <th>98.0</th>\n",
              "      <td>1</td>\n",
              "    </tr>\n",
              "    <tr>\n",
              "      <th>99.0</th>\n",
              "      <td>57</td>\n",
              "    </tr>\n",
              "    <tr>\n",
              "      <th>NaN</th>\n",
              "      <td>4449</td>\n",
              "    </tr>\n",
              "  </tbody>\n",
              "</table>\n",
              "</div><br><label><b>dtype:</b> int64</label>"
            ]
          },
          "metadata": {},
          "execution_count": 20
        }
      ],
      "source": [
        "counts = preg[\"birthwgt_lb\"].value_counts(dropna=False).sort_index()\n",
        "counts"
      ]
    },
    {
      "cell_type": "markdown",
      "id": "33f9b877",
      "metadata": {
        "id": "33f9b877"
      },
      "source": [
        "The argument `dropna=False` means that `value_counts` does not ignore values that are \"NA\" or \"Not applicable\".\n",
        "These values appear in the results as `NaN`, which stands for \"Not a number\" -- and the count of these values is consistent with the count of inapplicable cases in the codebook.\n",
        "\n",
        "The counts for 6, 7, and 8 pounds are consistent with the codebook.\n",
        "To check the counts for the weight range from 0 to 5 pounds, we can use an attribute called `loc` -- which is short for \"location\" -- and a slice index to select a subset of the counts."
      ]
    },
    {
      "cell_type": "code",
      "execution_count": 21,
      "id": "85b8604f",
      "metadata": {
        "colab": {
          "base_uri": "https://localhost:8080/",
          "height": 304
        },
        "id": "85b8604f",
        "outputId": "c4c09efc-0c41-4205-c50d-42951f56d985"
      },
      "outputs": [
        {
          "output_type": "execute_result",
          "data": {
            "text/plain": [
              "birthwgt_lb\n",
              "0.0      8\n",
              "1.0     40\n",
              "2.0     53\n",
              "3.0     98\n",
              "4.0    229\n",
              "5.0    697\n",
              "Name: count, dtype: int64"
            ],
            "text/html": [
              "<div>\n",
              "<style scoped>\n",
              "    .dataframe tbody tr th:only-of-type {\n",
              "        vertical-align: middle;\n",
              "    }\n",
              "\n",
              "    .dataframe tbody tr th {\n",
              "        vertical-align: top;\n",
              "    }\n",
              "\n",
              "    .dataframe thead th {\n",
              "        text-align: right;\n",
              "    }\n",
              "</style>\n",
              "<table border=\"1\" class=\"dataframe\">\n",
              "  <thead>\n",
              "    <tr style=\"text-align: right;\">\n",
              "      <th></th>\n",
              "      <th>count</th>\n",
              "    </tr>\n",
              "    <tr>\n",
              "      <th>birthwgt_lb</th>\n",
              "      <th></th>\n",
              "    </tr>\n",
              "  </thead>\n",
              "  <tbody>\n",
              "    <tr>\n",
              "      <th>0.0</th>\n",
              "      <td>8</td>\n",
              "    </tr>\n",
              "    <tr>\n",
              "      <th>1.0</th>\n",
              "      <td>40</td>\n",
              "    </tr>\n",
              "    <tr>\n",
              "      <th>2.0</th>\n",
              "      <td>53</td>\n",
              "    </tr>\n",
              "    <tr>\n",
              "      <th>3.0</th>\n",
              "      <td>98</td>\n",
              "    </tr>\n",
              "    <tr>\n",
              "      <th>4.0</th>\n",
              "      <td>229</td>\n",
              "    </tr>\n",
              "    <tr>\n",
              "      <th>5.0</th>\n",
              "      <td>697</td>\n",
              "    </tr>\n",
              "  </tbody>\n",
              "</table>\n",
              "</div><br><label><b>dtype:</b> int64</label>"
            ]
          },
          "metadata": {},
          "execution_count": 21
        }
      ],
      "source": [
        "counts.loc[0:5]"
      ]
    },
    {
      "cell_type": "markdown",
      "id": "8e166a5c",
      "metadata": {
        "id": "8e166a5c"
      },
      "source": [
        "And we can use the `sum` method to add them up."
      ]
    },
    {
      "cell_type": "code",
      "execution_count": 22,
      "id": "2f4f1679",
      "metadata": {
        "colab": {
          "base_uri": "https://localhost:8080/"
        },
        "id": "2f4f1679",
        "outputId": "8a291c5a-dd86-4c29-c973-174437903a3a"
      },
      "outputs": [
        {
          "output_type": "execute_result",
          "data": {
            "text/plain": [
              "1125"
            ]
          },
          "metadata": {},
          "execution_count": 22
        }
      ],
      "source": [
        "counts.loc[0:5].sum()"
      ]
    },
    {
      "cell_type": "markdown",
      "id": "c8f9a1b8",
      "metadata": {
        "id": "c8f9a1b8"
      },
      "source": [
        "The total is consistent with the codebook.\n",
        "\n",
        "The values 97, 98, and 99 represent cases where the birth weight is unknown.\n",
        "There are several ways we might handle missing data.\n",
        "A simple option is to replace these values with `NaN`.\n",
        "At the same time, we will also replace a value that is clearly wrong, 51 pounds.\n",
        "\n",
        "We can use the replace method like this:"
      ]
    },
    {
      "cell_type": "code",
      "execution_count": 23,
      "id": "412f5cc5",
      "metadata": {
        "id": "412f5cc5"
      },
      "outputs": [],
      "source": [
        "preg[\"birthwgt_lb\"] = preg[\"birthwgt_lb\"].replace([51, 97, 98, 99], np.nan)"
      ]
    },
    {
      "cell_type": "markdown",
      "id": "cab151e6",
      "metadata": {
        "id": "cab151e6"
      },
      "source": [
        "The first argument is a list of values to be replaced.\n",
        "The second argument, `np.nan`, gets the `NaN` value from NumPy.\n",
        "\n",
        "When you read data like this, you often have to check for errors and deal with special values.\n",
        "Operations like this are called **data cleaning**."
      ]
    },
    {
      "cell_type": "markdown",
      "id": "1001b3f1",
      "metadata": {
        "id": "1001b3f1"
      },
      "source": [
        "## Transformation\n",
        "\n",
        "As another kind of data cleaning, sometimes we have to convert data into different formats, and perform other calculations.\n",
        "\n",
        "For example, `agepreg` contains the mother's age at the end of the pregnancy.\n",
        "According to the codebook, it is an integer number of centiyears (hundredths of a year), as we can tell if we use the `mean` method to compute its average."
      ]
    },
    {
      "cell_type": "code",
      "execution_count": 24,
      "id": "4075d0fd",
      "metadata": {
        "colab": {
          "base_uri": "https://localhost:8080/"
        },
        "id": "4075d0fd",
        "outputId": "24653084-6082-4e6a-c1d5-acb9d7f9127a"
      },
      "outputs": [
        {
          "output_type": "execute_result",
          "data": {
            "text/plain": [
              "2468.8151197039497"
            ]
          },
          "metadata": {},
          "execution_count": 24
        }
      ],
      "source": [
        "preg[\"agepreg\"].mean()"
      ]
    },
    {
      "cell_type": "markdown",
      "id": "a668ab41",
      "metadata": {
        "id": "a668ab41"
      },
      "source": [
        "To convert it to years, we can divide through by 100."
      ]
    },
    {
      "cell_type": "code",
      "execution_count": 25,
      "id": "feef9b14",
      "metadata": {
        "colab": {
          "base_uri": "https://localhost:8080/"
        },
        "id": "feef9b14",
        "outputId": "a5118858-6dd9-41ef-e07e-df555b688dd8"
      },
      "outputs": [
        {
          "output_type": "execute_result",
          "data": {
            "text/plain": [
              "24.6881511970395"
            ]
          },
          "metadata": {},
          "execution_count": 25
        }
      ],
      "source": [
        "preg[\"agepreg\"] /= 100.0\n",
        "preg[\"agepreg\"].mean()"
      ]
    },
    {
      "cell_type": "markdown",
      "id": "30376097",
      "metadata": {
        "id": "30376097"
      },
      "source": [
        "Now the average is more credible.\n",
        "\n",
        "As another example, `birthwgt_lb` and `birthwgt_oz` contain birth weights with the pounds and ounces in separate columns.\n",
        "It will be more convenient to combine them into as single column that contains weights in pounds and fractions of a pound.\n",
        "\n",
        "First we'll clean `birthwgt_oz` as we did with `birthwgt_lb`."
      ]
    },
    {
      "cell_type": "code",
      "execution_count": 26,
      "id": "ef400303",
      "metadata": {
        "tags": [],
        "colab": {
          "base_uri": "https://localhost:8080/",
          "height": 743
        },
        "id": "ef400303",
        "outputId": "d6ea0a20-8404-4eb9-89ad-a15927665713"
      },
      "outputs": [
        {
          "output_type": "execute_result",
          "data": {
            "text/plain": [
              "birthwgt_oz\n",
              "0.0     1037\n",
              "1.0      408\n",
              "2.0      603\n",
              "3.0      533\n",
              "4.0      525\n",
              "5.0      535\n",
              "6.0      709\n",
              "7.0      501\n",
              "8.0      756\n",
              "9.0      505\n",
              "10.0     475\n",
              "11.0     557\n",
              "12.0     555\n",
              "13.0     487\n",
              "14.0     475\n",
              "15.0     378\n",
              "97.0       1\n",
              "98.0       1\n",
              "99.0      46\n",
              "NaN     4506\n",
              "Name: count, dtype: int64"
            ],
            "text/html": [
              "<div>\n",
              "<style scoped>\n",
              "    .dataframe tbody tr th:only-of-type {\n",
              "        vertical-align: middle;\n",
              "    }\n",
              "\n",
              "    .dataframe tbody tr th {\n",
              "        vertical-align: top;\n",
              "    }\n",
              "\n",
              "    .dataframe thead th {\n",
              "        text-align: right;\n",
              "    }\n",
              "</style>\n",
              "<table border=\"1\" class=\"dataframe\">\n",
              "  <thead>\n",
              "    <tr style=\"text-align: right;\">\n",
              "      <th></th>\n",
              "      <th>count</th>\n",
              "    </tr>\n",
              "    <tr>\n",
              "      <th>birthwgt_oz</th>\n",
              "      <th></th>\n",
              "    </tr>\n",
              "  </thead>\n",
              "  <tbody>\n",
              "    <tr>\n",
              "      <th>0.0</th>\n",
              "      <td>1037</td>\n",
              "    </tr>\n",
              "    <tr>\n",
              "      <th>1.0</th>\n",
              "      <td>408</td>\n",
              "    </tr>\n",
              "    <tr>\n",
              "      <th>2.0</th>\n",
              "      <td>603</td>\n",
              "    </tr>\n",
              "    <tr>\n",
              "      <th>3.0</th>\n",
              "      <td>533</td>\n",
              "    </tr>\n",
              "    <tr>\n",
              "      <th>4.0</th>\n",
              "      <td>525</td>\n",
              "    </tr>\n",
              "    <tr>\n",
              "      <th>5.0</th>\n",
              "      <td>535</td>\n",
              "    </tr>\n",
              "    <tr>\n",
              "      <th>6.0</th>\n",
              "      <td>709</td>\n",
              "    </tr>\n",
              "    <tr>\n",
              "      <th>7.0</th>\n",
              "      <td>501</td>\n",
              "    </tr>\n",
              "    <tr>\n",
              "      <th>8.0</th>\n",
              "      <td>756</td>\n",
              "    </tr>\n",
              "    <tr>\n",
              "      <th>9.0</th>\n",
              "      <td>505</td>\n",
              "    </tr>\n",
              "    <tr>\n",
              "      <th>10.0</th>\n",
              "      <td>475</td>\n",
              "    </tr>\n",
              "    <tr>\n",
              "      <th>11.0</th>\n",
              "      <td>557</td>\n",
              "    </tr>\n",
              "    <tr>\n",
              "      <th>12.0</th>\n",
              "      <td>555</td>\n",
              "    </tr>\n",
              "    <tr>\n",
              "      <th>13.0</th>\n",
              "      <td>487</td>\n",
              "    </tr>\n",
              "    <tr>\n",
              "      <th>14.0</th>\n",
              "      <td>475</td>\n",
              "    </tr>\n",
              "    <tr>\n",
              "      <th>15.0</th>\n",
              "      <td>378</td>\n",
              "    </tr>\n",
              "    <tr>\n",
              "      <th>97.0</th>\n",
              "      <td>1</td>\n",
              "    </tr>\n",
              "    <tr>\n",
              "      <th>98.0</th>\n",
              "      <td>1</td>\n",
              "    </tr>\n",
              "    <tr>\n",
              "      <th>99.0</th>\n",
              "      <td>46</td>\n",
              "    </tr>\n",
              "    <tr>\n",
              "      <th>NaN</th>\n",
              "      <td>4506</td>\n",
              "    </tr>\n",
              "  </tbody>\n",
              "</table>\n",
              "</div><br><label><b>dtype:</b> int64</label>"
            ]
          },
          "metadata": {},
          "execution_count": 26
        }
      ],
      "source": [
        "preg[\"birthwgt_oz\"].value_counts(dropna=False).sort_index()"
      ]
    },
    {
      "cell_type": "code",
      "execution_count": 27,
      "id": "edfb3ad0",
      "metadata": {
        "id": "edfb3ad0"
      },
      "outputs": [],
      "source": [
        "preg[\"birthwgt_oz\"] = preg[\"birthwgt_oz\"].replace([97, 98, 99], np.nan)"
      ]
    },
    {
      "cell_type": "markdown",
      "id": "330e50a4",
      "metadata": {
        "id": "330e50a4"
      },
      "source": [
        "Now we can use the cleaned values to create a new column that combines pounds and ounces into a single quantity."
      ]
    },
    {
      "cell_type": "code",
      "execution_count": 28,
      "id": "99e754ca",
      "metadata": {
        "colab": {
          "base_uri": "https://localhost:8080/"
        },
        "id": "99e754ca",
        "outputId": "217f166b-3353-48f8-f449-c4eeb11be566"
      },
      "outputs": [
        {
          "output_type": "execute_result",
          "data": {
            "text/plain": [
              "7.265628457623368"
            ]
          },
          "metadata": {},
          "execution_count": 28
        }
      ],
      "source": [
        "preg[\"totalwgt_lb\"] = preg[\"birthwgt_lb\"] + preg[\"birthwgt_oz\"] / 16.0\n",
        "preg[\"totalwgt_lb\"].mean()"
      ]
    },
    {
      "cell_type": "markdown",
      "id": "9328c705",
      "metadata": {
        "id": "9328c705"
      },
      "source": [
        "The average of the result seems plausible."
      ]
    },
    {
      "cell_type": "markdown",
      "id": "6b17ca75",
      "metadata": {
        "id": "6b17ca75"
      },
      "source": [
        "## Summary Statistics\n",
        "\n",
        "A **statistic** is a number derived from a dataset, usually intended to quantify some aspect of the data.\n",
        "Examples include the count, mean, variance, and standard deviation.\n",
        "\n",
        "A `Series` object has a `count` method that returns the number of values that are not `nan`."
      ]
    },
    {
      "cell_type": "code",
      "execution_count": 29,
      "id": "a124ce54",
      "metadata": {
        "colab": {
          "base_uri": "https://localhost:8080/"
        },
        "id": "a124ce54",
        "outputId": "ddf45f9b-3345-419c-8b8c-7781a974ebd4"
      },
      "outputs": [
        {
          "output_type": "execute_result",
          "data": {
            "text/plain": [
              "9038"
            ]
          },
          "metadata": {},
          "execution_count": 29
        }
      ],
      "source": [
        "weights = preg[\"totalwgt_lb\"]\n",
        "n = weights.count()\n",
        "n"
      ]
    },
    {
      "cell_type": "markdown",
      "id": "b726a26b",
      "metadata": {
        "id": "b726a26b"
      },
      "source": [
        "It also provides a `sum` method that returns the sum of the values -- we can use it to compute the mean like this."
      ]
    },
    {
      "cell_type": "code",
      "execution_count": 30,
      "id": "370eb75e",
      "metadata": {
        "colab": {
          "base_uri": "https://localhost:8080/"
        },
        "id": "370eb75e",
        "outputId": "26ab0f78-9010-41c6-a08c-049c8c94fbdf"
      },
      "outputs": [
        {
          "output_type": "execute_result",
          "data": {
            "text/plain": [
              "7.265628457623368"
            ]
          },
          "metadata": {},
          "execution_count": 30
        }
      ],
      "source": [
        "mean = weights.sum() / n\n",
        "mean"
      ]
    },
    {
      "cell_type": "markdown",
      "id": "83159334",
      "metadata": {
        "id": "83159334"
      },
      "source": [
        "But as we've already seen, there's also a `mean` method that does the same thing."
      ]
    },
    {
      "cell_type": "code",
      "execution_count": 31,
      "id": "aebf1089",
      "metadata": {
        "colab": {
          "base_uri": "https://localhost:8080/"
        },
        "id": "aebf1089",
        "outputId": "fe125d6e-7d6d-4282-bd32-4fe6614ead2e"
      },
      "outputs": [
        {
          "output_type": "execute_result",
          "data": {
            "text/plain": [
              "7.265628457623368"
            ]
          },
          "metadata": {},
          "execution_count": 31
        }
      ],
      "source": [
        "weights.mean()"
      ]
    },
    {
      "cell_type": "markdown",
      "id": "02b4e371",
      "metadata": {
        "id": "02b4e371"
      },
      "source": [
        "In this dataset, the average birth weight is about 7.3 pounds.\n",
        "\n",
        "Variance is a statistic that quantifies the spread of a set of values.\n",
        "It is the mean of the squared deviations, which are the distances of each point from the mean."
      ]
    },
    {
      "cell_type": "code",
      "execution_count": 32,
      "id": "17efbc62",
      "metadata": {
        "id": "17efbc62"
      },
      "outputs": [],
      "source": [
        "squared_deviations = (weights - mean) ** 2"
      ]
    },
    {
      "cell_type": "markdown",
      "id": "325b143d",
      "metadata": {
        "id": "325b143d"
      },
      "source": [
        "We can compute the mean of the squared deviations like this."
      ]
    },
    {
      "cell_type": "code",
      "execution_count": 33,
      "id": "10bc8188",
      "metadata": {
        "colab": {
          "base_uri": "https://localhost:8080/"
        },
        "id": "10bc8188",
        "outputId": "ab08bf4c-4e8d-4bfa-d94d-8e441a912f21"
      },
      "outputs": [
        {
          "output_type": "execute_result",
          "data": {
            "text/plain": [
              "1.983070989750022"
            ]
          },
          "metadata": {},
          "execution_count": 33
        }
      ],
      "source": [
        "var = squared_deviations.sum() / n\n",
        "var"
      ]
    },
    {
      "cell_type": "markdown",
      "id": "199652a0",
      "metadata": {
        "id": "199652a0"
      },
      "source": [
        "As you might expect, `Series` provides a `var` method that does the same thing, not *exactly* the same thing."
      ]
    },
    {
      "cell_type": "code",
      "execution_count": 34,
      "id": "09b56f75",
      "metadata": {
        "colab": {
          "base_uri": "https://localhost:8080/"
        },
        "id": "09b56f75",
        "outputId": "26c77a20-0c5d-45c3-a240-38551b295f3e"
      },
      "outputs": [
        {
          "output_type": "execute_result",
          "data": {
            "text/plain": [
              "1.9832904288326532"
            ]
          },
          "metadata": {},
          "execution_count": 34
        }
      ],
      "source": [
        "weights.var()"
      ]
    },
    {
      "cell_type": "markdown",
      "id": "b9fb9471",
      "metadata": {
        "id": "b9fb9471"
      },
      "source": [
        "The result is slightly different because when the `var` method computes the mean of the squared deviations, it divides by `n-1` rather than `n`.\n",
        "That's because there are two ways to compute the variance of a sample, depending on what you are trying to do.\n",
        "I'll explain the difference in Chapter XXX -- but in practice it usually doesn't matter.\n",
        "If you prefer the version with `n` in the denominator, you can get it by passing `ddof=0` as a keyword argument to the `var` method."
      ]
    },
    {
      "cell_type": "code",
      "execution_count": 35,
      "id": "4758f78c",
      "metadata": {
        "colab": {
          "base_uri": "https://localhost:8080/"
        },
        "id": "4758f78c",
        "outputId": "b43b6f10-00d8-42e3-ed67-f48bd5b958f5"
      },
      "outputs": [
        {
          "output_type": "execute_result",
          "data": {
            "text/plain": [
              "1.9830709897500207"
            ]
          },
          "metadata": {},
          "execution_count": 35
        }
      ],
      "source": [
        "weights.var(ddof=0)"
      ]
    },
    {
      "cell_type": "markdown",
      "id": "48a53ff2",
      "metadata": {
        "id": "48a53ff2"
      },
      "source": [
        "In this dataset, the variance of the birth weights is about 1.98, but that value is hard to interpret -- for one thing, it is in units of pounds squared.\n",
        "Variance is useful in some computations, but not a good way to describe a dataset.\n",
        "A better option is the **standard deviation**, which is the square root of variance.\n",
        "We can compute it like this."
      ]
    },
    {
      "cell_type": "code",
      "execution_count": 36,
      "id": "26d51d61",
      "metadata": {
        "colab": {
          "base_uri": "https://localhost:8080/"
        },
        "id": "26d51d61",
        "outputId": "adddb076-ea36-48e7-afac-6557977160ea"
      },
      "outputs": [
        {
          "output_type": "execute_result",
          "data": {
            "text/plain": [
              "1.40821553384062"
            ]
          },
          "metadata": {},
          "execution_count": 36
        }
      ],
      "source": [
        "std = np.sqrt(var)\n",
        "std"
      ]
    },
    {
      "cell_type": "markdown",
      "id": "16171375",
      "metadata": {
        "id": "16171375"
      },
      "source": [
        "Or, we can use the `std` method."
      ]
    },
    {
      "cell_type": "code",
      "execution_count": 37,
      "id": "70647ffd",
      "metadata": {
        "colab": {
          "base_uri": "https://localhost:8080/"
        },
        "id": "70647ffd",
        "outputId": "eeb21140-5457-4d4c-ee6a-09a1d20df056"
      },
      "outputs": [
        {
          "output_type": "execute_result",
          "data": {
            "text/plain": [
              "1.4082155338406195"
            ]
          },
          "metadata": {},
          "execution_count": 37
        }
      ],
      "source": [
        "weights.std(ddof=0)"
      ]
    },
    {
      "cell_type": "markdown",
      "id": "c76c7a47",
      "metadata": {
        "id": "c76c7a47"
      },
      "source": [
        "In this dataset, the standard deviation of birth weights is about 1.4 pounds.\n",
        "Informally, values that are one or two standard deviations from the mean are common -- values farther from the mean are rare."
      ]
    },
    {
      "cell_type": "markdown",
      "id": "4234e27e",
      "metadata": {
        "id": "4234e27e"
      },
      "source": [
        "## Interpretation\n",
        "\n",
        "To work with data effectively, you have to think on two levels at the same time: the level of statistics and the level of context.\n",
        "As an example, let's select the rows in the pregnancy file with `caseid` 10229.\n",
        "The `query` method takes a string that can contain column names, comparison operators, and numbers, among other things."
      ]
    },
    {
      "cell_type": "code",
      "execution_count": 38,
      "id": "34f9a644",
      "metadata": {
        "colab": {
          "base_uri": "https://localhost:8080/"
        },
        "id": "34f9a644",
        "outputId": "6c83805e-0f3f-4e37-837d-27bb04056e97"
      },
      "outputs": [
        {
          "output_type": "execute_result",
          "data": {
            "text/plain": [
              "(7, 244)"
            ]
          },
          "metadata": {},
          "execution_count": 38
        }
      ],
      "source": [
        "subset = preg.query(\"caseid == 10229\")\n",
        "subset.shape"
      ]
    },
    {
      "cell_type": "markdown",
      "id": "c63cae88",
      "metadata": {
        "id": "c63cae88"
      },
      "source": [
        "The result is a `DataFrame` that contains only the rows where the query is `True`.\n",
        "This respondent reported seven pregnancies -- here are their outcomes, which are recorded in chronological order."
      ]
    },
    {
      "cell_type": "code",
      "execution_count": 39,
      "id": "e4d4907d",
      "metadata": {
        "colab": {
          "base_uri": "https://localhost:8080/"
        },
        "id": "e4d4907d",
        "outputId": "424e0a15-f1c0-46f0-8a41-ed22c4ff5655"
      },
      "outputs": [
        {
          "output_type": "execute_result",
          "data": {
            "text/plain": [
              "array([4, 4, 4, 4, 4, 4, 1])"
            ]
          },
          "metadata": {},
          "execution_count": 39
        }
      ],
      "source": [
        "subset[\"outcome\"].values"
      ]
    },
    {
      "cell_type": "markdown",
      "id": "0c5ef31b",
      "metadata": {
        "id": "0c5ef31b"
      },
      "source": [
        "The outcome code `1` indicates a live birth.\n",
        "Code `4` indicates a miscarriage -- that is, a pregnancy loss, usually with no known medical cause.\n",
        "\n",
        "Statistically this respondent is not unusual.\n",
        "Pregnancy loss is common and there are other respondents who reported as many instances.\n",
        "But remembering the context, this data tells the story of a woman who was pregnant six times, each time ending in miscarriage.\n",
        "Her seventh and most recent pregnancy ended in a live birth.\n",
        "If we consider this data with empathy, it is natural to be moved by the story it tells.\n",
        "\n",
        "Each record in the NSFG dataset represents a person who provided honest answers to many personal and difficult questions.\n",
        "We can use this data to answer statistical questions about family life, reproduction, and health.\n",
        "At the same time, we have an obligation to consider the people represented by the data, and to afford them respect and gratitude."
      ]
    },
    {
      "cell_type": "markdown",
      "id": "74c62acf",
      "metadata": {
        "id": "74c62acf"
      },
      "source": [
        "## Glossary\n",
        "\n",
        "The end of each chapter provides a glossary of words that are defined in the chapter.\n",
        "\n",
        "- **anecdotal evidence:** Data collected informally from a small number of individual cases, often without systematic sampling.\n",
        "\n",
        "- **cross-sectional study:** A study that collects data from a representative sample of a population at a single point or interval in time.\n",
        "\n",
        "- **longitudinal study:** A study that collects data from the same group of respondents at more than one interval in time.\n",
        "\n",
        "- **cycle:** One data-collection interval in a study that collects data at multiple intervals in time.\n",
        "\n",
        "- **population:** The entire group of individuals or items that is the subject of a study.\n",
        "\n",
        "- **sample:** A subset of a population, often chosen at random.\n",
        "\n",
        "- **respondents:** People who participate in a survey and respond to questions.\n",
        "\n",
        "- **representative:** A sample is representative if it accurately reflects the characteristics of the population.\n",
        "\n",
        "- **oversampled:** A subset of the population is oversampled if its members have a higher chance of appearing in a sample.\n",
        "\n",
        "- **codebook:** A document that describes the variables in a dataset, and provides other information about the data.\n",
        "\n",
        "- **recode:** A variable that is computed based on other variables in a dataset.\n",
        "\n",
        "- **raw data:** Data that has not been processed after collection.\n",
        "\n",
        "- **data cleaning:** A process for identifying and correcting errors in a dataset, dealing with missing values, and computing recodes.\n",
        "\n",
        "- **statistic:** A value that describes or summarizes a property of a sample.\n",
        "\n",
        "- **standard deviation:** A statistic that quantifies the spread of data around the mean."
      ]
    },
    {
      "cell_type": "markdown",
      "id": "3b3f8c2a",
      "metadata": {
        "collapsed": true,
        "id": "3b3f8c2a"
      },
      "source": [
        "## Exercises\n",
        "\n",
        "The exercises are based on the NSFG pregnancy file."
      ]
    },
    {
      "cell_type": "code",
      "execution_count": 42,
      "id": "009d0f95",
      "metadata": {
        "colab": {
          "base_uri": "https://localhost:8080/",
          "height": 241
        },
        "id": "009d0f95",
        "outputId": "7259e6e6-510f-4621-81e0-c2bd34493ed2"
      },
      "outputs": [
        {
          "output_type": "execute_result",
          "data": {
            "text/plain": [
              "0    4.005682\n",
              "1    3.579545\n",
              "2    4.147727\n",
              "3    3.181818\n",
              "4    2.812500\n",
              "Name: totalwgt_kg, dtype: float64"
            ],
            "text/html": [
              "<div>\n",
              "<style scoped>\n",
              "    .dataframe tbody tr th:only-of-type {\n",
              "        vertical-align: middle;\n",
              "    }\n",
              "\n",
              "    .dataframe tbody tr th {\n",
              "        vertical-align: top;\n",
              "    }\n",
              "\n",
              "    .dataframe thead th {\n",
              "        text-align: right;\n",
              "    }\n",
              "</style>\n",
              "<table border=\"1\" class=\"dataframe\">\n",
              "  <thead>\n",
              "    <tr style=\"text-align: right;\">\n",
              "      <th></th>\n",
              "      <th>totalwgt_kg</th>\n",
              "    </tr>\n",
              "  </thead>\n",
              "  <tbody>\n",
              "    <tr>\n",
              "      <th>0</th>\n",
              "      <td>4.005682</td>\n",
              "    </tr>\n",
              "    <tr>\n",
              "      <th>1</th>\n",
              "      <td>3.579545</td>\n",
              "    </tr>\n",
              "    <tr>\n",
              "      <th>2</th>\n",
              "      <td>4.147727</td>\n",
              "    </tr>\n",
              "    <tr>\n",
              "      <th>3</th>\n",
              "      <td>3.181818</td>\n",
              "    </tr>\n",
              "    <tr>\n",
              "      <th>4</th>\n",
              "      <td>2.812500</td>\n",
              "    </tr>\n",
              "  </tbody>\n",
              "</table>\n",
              "</div><br><label><b>dtype:</b> float64</label>"
            ]
          },
          "metadata": {},
          "execution_count": 42
        }
      ],
      "source": [
        "# Solution goes here\n",
        "preg[\"totalwgt_kg\"] = preg[\"totalwgt_lb\"]/2.2\n",
        "preg[\"totalwgt_kg\"].head()\n"
      ]
    },
    {
      "cell_type": "markdown",
      "id": "90fd57dd",
      "metadata": {
        "id": "90fd57dd"
      },
      "source": [
        "### Exercise\n",
        "\n",
        "Select the `birthord` column from `preg`, print the value counts, and compare to results published in the  codebook at <https://ftp.cdc.gov/pub/Health_Statistics/NCHS/Dataset_Documentation/NSFG/Cycle6Codebook-Pregnancy.pdf>."
      ]
    },
    {
      "cell_type": "code",
      "execution_count": 40,
      "id": "09e79aba",
      "metadata": {
        "colab": {
          "base_uri": "https://localhost:8080/",
          "height": 241
        },
        "id": "09e79aba",
        "outputId": "66317527-ceb7-4b04-b27c-906aa4879edd"
      },
      "outputs": [
        {
          "output_type": "execute_result",
          "data": {
            "text/plain": [
              "0    1.0\n",
              "1    2.0\n",
              "2    1.0\n",
              "3    2.0\n",
              "4    3.0\n",
              "Name: birthord, dtype: float64"
            ],
            "text/html": [
              "<div>\n",
              "<style scoped>\n",
              "    .dataframe tbody tr th:only-of-type {\n",
              "        vertical-align: middle;\n",
              "    }\n",
              "\n",
              "    .dataframe tbody tr th {\n",
              "        vertical-align: top;\n",
              "    }\n",
              "\n",
              "    .dataframe thead th {\n",
              "        text-align: right;\n",
              "    }\n",
              "</style>\n",
              "<table border=\"1\" class=\"dataframe\">\n",
              "  <thead>\n",
              "    <tr style=\"text-align: right;\">\n",
              "      <th></th>\n",
              "      <th>birthord</th>\n",
              "    </tr>\n",
              "  </thead>\n",
              "  <tbody>\n",
              "    <tr>\n",
              "      <th>0</th>\n",
              "      <td>1.0</td>\n",
              "    </tr>\n",
              "    <tr>\n",
              "      <th>1</th>\n",
              "      <td>2.0</td>\n",
              "    </tr>\n",
              "    <tr>\n",
              "      <th>2</th>\n",
              "      <td>1.0</td>\n",
              "    </tr>\n",
              "    <tr>\n",
              "      <th>3</th>\n",
              "      <td>2.0</td>\n",
              "    </tr>\n",
              "    <tr>\n",
              "      <th>4</th>\n",
              "      <td>3.0</td>\n",
              "    </tr>\n",
              "  </tbody>\n",
              "</table>\n",
              "</div><br><label><b>dtype:</b> float64</label>"
            ]
          },
          "metadata": {},
          "execution_count": 40
        }
      ],
      "source": [
        "# Solution goes here\n",
        "birthord = preg[\"birthord\"]\n",
        "birthord.head()\n"
      ]
    },
    {
      "cell_type": "markdown",
      "id": "4a6aabaa",
      "metadata": {
        "id": "4a6aabaa"
      },
      "source": [
        "### Exercise\n",
        "\n",
        "Create a new column named `totalwgt_kg` that contains birth weight in kilograms (there are approximately 2.2 pounds per kilogram).\n",
        "Compute the mean and standard deviation of the new column."
      ]
    },
    {
      "cell_type": "markdown",
      "id": "ee9bc52d",
      "metadata": {
        "id": "ee9bc52d"
      },
      "source": [
        "### Exercise\n",
        "\n",
        "What are the pregnancy lengths for the respondent with `caseid` 2298?"
      ]
    },
    {
      "cell_type": "code",
      "execution_count": 45,
      "id": "69de50aa",
      "metadata": {
        "colab": {
          "base_uri": "https://localhost:8080/",
          "height": 210
        },
        "id": "69de50aa",
        "outputId": "db6cb3ef-c9b6-4820-9c57-ceff0faf0759"
      },
      "outputs": [
        {
          "output_type": "execute_result",
          "data": {
            "text/plain": [
              "2610    40\n",
              "2611    36\n",
              "2612    30\n",
              "2613    40\n",
              "Name: prglngth, dtype: int64"
            ],
            "text/html": [
              "<div>\n",
              "<style scoped>\n",
              "    .dataframe tbody tr th:only-of-type {\n",
              "        vertical-align: middle;\n",
              "    }\n",
              "\n",
              "    .dataframe tbody tr th {\n",
              "        vertical-align: top;\n",
              "    }\n",
              "\n",
              "    .dataframe thead th {\n",
              "        text-align: right;\n",
              "    }\n",
              "</style>\n",
              "<table border=\"1\" class=\"dataframe\">\n",
              "  <thead>\n",
              "    <tr style=\"text-align: right;\">\n",
              "      <th></th>\n",
              "      <th>prglngth</th>\n",
              "    </tr>\n",
              "  </thead>\n",
              "  <tbody>\n",
              "    <tr>\n",
              "      <th>2610</th>\n",
              "      <td>40</td>\n",
              "    </tr>\n",
              "    <tr>\n",
              "      <th>2611</th>\n",
              "      <td>36</td>\n",
              "    </tr>\n",
              "    <tr>\n",
              "      <th>2612</th>\n",
              "      <td>30</td>\n",
              "    </tr>\n",
              "    <tr>\n",
              "      <th>2613</th>\n",
              "      <td>40</td>\n",
              "    </tr>\n",
              "  </tbody>\n",
              "</table>\n",
              "</div><br><label><b>dtype:</b> int64</label>"
            ]
          },
          "metadata": {},
          "execution_count": 45
        }
      ],
      "source": [
        "# Solution goes here\n",
        "#subset_2298 = preg.query(\"caseid == 2298\")\n",
        "#subset_2298[\"prglngth\"]\n",
        "\n",
        "preg.query(\"caseid == 2298\")[\"prglngth\"]\n",
        "\n"
      ]
    },
    {
      "cell_type": "markdown",
      "id": "a205c407",
      "metadata": {
        "id": "a205c407"
      },
      "source": [
        "What was the birth weight of the first baby born to the respondent with `caseid` 5013?\n",
        "Hint: You can use `and` to check more than one condition in a query."
      ]
    },
    {
      "cell_type": "code",
      "execution_count": 50,
      "id": "5ae4cc07",
      "metadata": {
        "colab": {
          "base_uri": "https://localhost:8080/",
          "height": 115
        },
        "id": "5ae4cc07",
        "outputId": "08676a23-d316-4c3d-c290-e7a37874f377"
      },
      "outputs": [
        {
          "output_type": "execute_result",
          "data": {
            "text/plain": [
              "5516    7.375\n",
              "Name: totalwgt_lb, dtype: float64"
            ],
            "text/html": [
              "<div>\n",
              "<style scoped>\n",
              "    .dataframe tbody tr th:only-of-type {\n",
              "        vertical-align: middle;\n",
              "    }\n",
              "\n",
              "    .dataframe tbody tr th {\n",
              "        vertical-align: top;\n",
              "    }\n",
              "\n",
              "    .dataframe thead th {\n",
              "        text-align: right;\n",
              "    }\n",
              "</style>\n",
              "<table border=\"1\" class=\"dataframe\">\n",
              "  <thead>\n",
              "    <tr style=\"text-align: right;\">\n",
              "      <th></th>\n",
              "      <th>totalwgt_lb</th>\n",
              "    </tr>\n",
              "  </thead>\n",
              "  <tbody>\n",
              "    <tr>\n",
              "      <th>5516</th>\n",
              "      <td>7.375</td>\n",
              "    </tr>\n",
              "  </tbody>\n",
              "</table>\n",
              "</div><br><label><b>dtype:</b> float64</label>"
            ]
          },
          "metadata": {},
          "execution_count": 50
        }
      ],
      "source": [
        "# Solution goes here\n",
        "preg.query(\"caseid == 5013\")[\"totalwgt_lb\"].head(1)"
      ]
    },
    {
      "cell_type": "code",
      "execution_count": null,
      "id": "53f511d0",
      "metadata": {
        "id": "53f511d0"
      },
      "outputs": [],
      "source": [
        "# Solution goes here"
      ]
    },
    {
      "cell_type": "markdown",
      "id": "e27da3a4",
      "metadata": {
        "tags": [],
        "id": "e27da3a4"
      },
      "source": [
        "[Think Stats: Exploratory Data Analysis in Python, 3rd Edition](https://allendowney.github.io/ThinkStats/index.html)\n",
        "\n",
        "Copyright 2024 [Allen B. Downey](https://allendowney.com)\n",
        "\n",
        "Code license: [MIT License](https://mit-license.org/)\n",
        "\n",
        "Text license: [Creative Commons Attribution-NonCommercial-ShareAlike 4.0 International](https://creativecommons.org/licenses/by-nc-sa/4.0/)"
      ]
    }
  ],
  "metadata": {
    "celltoolbar": "Tags",
    "kernelspec": {
      "display_name": "Python 3 (ipykernel)",
      "language": "python",
      "name": "python3"
    },
    "language_info": {
      "codemirror_mode": {
        "name": "ipython",
        "version": 3
      },
      "file_extension": ".py",
      "mimetype": "text/x-python",
      "name": "python",
      "nbconvert_exporter": "python",
      "pygments_lexer": "ipython3",
      "version": "3.10.14"
    },
    "colab": {
      "provenance": []
    }
  },
  "nbformat": 4,
  "nbformat_minor": 5
}